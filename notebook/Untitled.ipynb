{
 "cells": [
  {
   "cell_type": "code",
   "execution_count": 1,
   "id": "9a1d6236-38ae-4459-ac5f-c01839a1ab1a",
   "metadata": {},
   "outputs": [
    {
     "ename": "ModuleNotFoundError",
     "evalue": "No module named 'EUROSTAT'",
     "output_type": "error",
     "traceback": [
      "\u001b[0;31m---------------------------------------------------------------------------\u001b[0m",
      "\u001b[0;31mModuleNotFoundError\u001b[0m                       Traceback (most recent call last)",
      "Cell \u001b[0;32mIn[1], line 1\u001b[0m\n\u001b[0;32m----> 1\u001b[0m \u001b[38;5;28;01mfrom\u001b[39;00m \u001b[38;5;21;01mEUROSTAT\u001b[39;00m\u001b[38;5;21;01m.\u001b[39;00m\u001b[38;5;21;01mipynb\u001b[39;00m \u001b[38;5;28;01mimport\u001b[39;00m MonthlyElectricity\n\u001b[1;32m      2\u001b[0m \u001b[38;5;28;01mfrom\u001b[39;00m \u001b[38;5;21;01mTemperature\u001b[39;00m\u001b[38;5;21;01m.\u001b[39;00m\u001b[38;5;21;01mipynb\u001b[39;00m \u001b[38;5;28;01mimport\u001b[39;00m TemperatureDownloader\n\u001b[1;32m      3\u001b[0m \u001b[38;5;28;01mfrom\u001b[39;00m \u001b[38;5;21;01mWB\u001b[39;00m\u001b[38;5;21;01m.\u001b[39;00m\u001b[38;5;21;01mipynb\u001b[39;00m \u001b[38;5;28;01mimport\u001b[39;00m DownloadPopulationData\n",
      "\u001b[0;31mModuleNotFoundError\u001b[0m: No module named 'EUROSTAT'"
     ]
    }
   ],
   "source": [
    "from EUROSTAT.ipynb import MonthlyElectricity\n",
    "from Temperature.ipynb import TemperatureDownloader\n",
    "from WB.ipynb import DownloadPopulationData\n",
    "\n",
    "\n",
    "def SaveToDatabase():\n",
    "    # Create a SQLAlchemy engine to connect to the PostgreSQL database\n",
    "    engine = create_engine(\"postgresql://student:infomdss@db_dashboard:5432/dashboard\")\n",
    "    \n",
    "    # Establish a connection to the database using the engine\n",
    "    # The 'with' statement ensures that the connection is properly closed when done\n",
    "    with engine.connect() as conn:\n",
    "        # Execute an SQL command to drop the 'population' table if it exists\n",
    "        # The text() function allows you to execute raw SQL statements\n",
    "        result = conn.execute(text(\"DROP TABLE IF EXISTS population CASCADE;\"))\n",
    "        result = conn.execute(text(\"DROP TABLE IF EXISTS temperature CASCADE;\"))\n",
    "    \n",
    "    # Assuming you have a DataFrame named 'world_population_df', the following line\n",
    "    # writes the data from the DataFrame to a new 'population' table in the database\n",
    "    # If the 'population' table already exists, it will be replaced with the new data\n",
    "    # This prints the number of rows entered in the database table\n",
    "    MonthlyElectricity.to_sql(\"Electricity\", engine, if_exists=\"replace\", index=True)\n",
    "    TemperatureDownloader.to_sql(\"Temperature\", engine, if_exists=\"replace\", index=True)\n",
    "    DownloadPopulationData.to_sql(\"Population\", engine, if_exists=\"replace\", index=True)"
   ]
  }
 ],
 "metadata": {
  "kernelspec": {
   "display_name": "Python 3 (ipykernel)",
   "language": "python",
   "name": "python3"
  },
  "language_info": {
   "codemirror_mode": {
    "name": "ipython",
    "version": 3
   },
   "file_extension": ".py",
   "mimetype": "text/x-python",
   "name": "python",
   "nbconvert_exporter": "python",
   "pygments_lexer": "ipython3",
   "version": "3.11.6"
  }
 },
 "nbformat": 4,
 "nbformat_minor": 5
}
