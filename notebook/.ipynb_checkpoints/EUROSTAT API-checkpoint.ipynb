{
 "cells": [
  {
   "cell_type": "code",
   "execution_count": 11,
   "id": "689f01b1-b352-4986-9ac2-54475731902a",
   "metadata": {},
   "outputs": [
    {
     "name": "stdout",
     "output_type": "stream",
     "text": [
      "https://ec.europa.eu/eurostat/api/dissemination/sdmx/2.1/data/TEN00122?format=TSV\n",
      "                                 freq,nrg_bal,siec,uni  \\\n",
      "0    A,NRGSUP,C0000X0350-0370,KTOE,AL\\t110.900 \\t13...   \n",
      "1    A,NRGSUP,C0000X0350-0370,KTOE,AT\\t3383.533 \\t3...   \n",
      "2    A,NRGSUP,C0000X0350-0370,KTOE,BA\\t: \\t: \\t: \\t...   \n",
      "3    A,NRGSUP,C0000X0350-0370,KTOE,BE\\t3787.179 \\t3...   \n",
      "4    A,NRGSUP,C0000X0350-0370,KTOE,BG\\t6938.197 \\t8...   \n",
      "..                                                 ...   \n",
      "487  A,NRGSUP,W6100_6220,KTOE,SK\\t35.206 \\t39.553 \\...   \n",
      "488  A,NRGSUP,W6100_6220,KTOE,TR\\t3.869 \\t5.613 \\t5...   \n",
      "489  A,NRGSUP,W6100_6220,KTOE,UA\\t0.000 \\t0.000 \\t0...   \n",
      "490  A,NRGSUP,W6100_6220,KTOE,UK\\t460.614 \\t738.607...   \n",
      "491  A,NRGSUP,W6100_6220,KTOE,XK\\t0.000 \\t0.000 \\t0...   \n",
      "\n",
      "     ,geo\\TIME_PERIOD\\t2010 \\t2011 \\t2012 \\t2013 \\t2014 \\t2015 \\t2016 \\t2017 \\t2018 \\t2019 \\t2020 \\t2021   \n",
      "0                                                  NaN                                                     \n",
      "1                                                  NaN                                                     \n",
      "2                                                  NaN                                                     \n",
      "3                                                  NaN                                                     \n",
      "4                                                  NaN                                                     \n",
      "..                                                 ...                                                     \n",
      "487                                                NaN                                                     \n",
      "488                                                NaN                                                     \n",
      "489                                                NaN                                                     \n",
      "490                                                NaN                                                     \n",
      "491                                                NaN                                                     \n",
      "\n",
      "[492 rows x 2 columns]\n"
     ]
    }
   ],
   "source": [
    "# Dit bestand is gwn een intro om eursostat data te importeren\n",
    "\n",
    "import requests\n",
    "import pandas as pd\n",
    "import csv\n",
    "\n",
    "\n",
    "\n",
    "def downEurostat(code,csv='False',format='tsv'):\n",
    "    #Dit trekt alleen de meta informatie, hoe echte informatie?\n",
    "    host=\"https://ec.europa.eu/eurostat/api/dissemination/sdmx/2.1/data/\"\n",
    "    print(host+code+'?format='+format.upper())\n",
    "    df = pd.read_csv(host+code+'?format='+format.upper(), delimiter='t')\n",
    "    if csv:\n",
    "        df.to_csv(code+\".\"+format)\n",
    "        \n",
    "    return df\n",
    "\n",
    "print(downEurostat(\"TEN00122\", True))\n",
    "# https://ec.europa.eu/eurostat/api/dissemination/sdmx/2.1/data/ + onlineDataCode + '?format=TSV', onlineDataCode +'.tsv'\n",
    "# https://ec.europa.eu/eurostat/api/dissemination/sdmx/2.1/data/\n",
    "# https://ec.europa.eu/eurostat/api/dissemination/sdmx/2.1/dataflow/ESTAT/\n",
    "\n",
    "\n",
    "# Komt met veel data, filteren op bepaalde code (denk aan RA000), dan converten van ktoe naar Mwh\n",
    "\n"
   ]
  },
  {
   "cell_type": "code",
   "execution_count": null,
   "id": "9295f374-e34a-416d-a043-d367c2b00e70",
   "metadata": {},
   "outputs": [],
   "source": []
  }
 ],
 "metadata": {
  "kernelspec": {
   "display_name": "Python 3 (ipykernel)",
   "language": "python",
   "name": "python3"
  },
  "language_info": {
   "codemirror_mode": {
    "name": "ipython",
    "version": 3
   },
   "file_extension": ".py",
   "mimetype": "text/x-python",
   "name": "python",
   "nbconvert_exporter": "python",
   "pygments_lexer": "ipython3",
   "version": "3.11.5"
  }
 },
 "nbformat": 4,
 "nbformat_minor": 5
}
