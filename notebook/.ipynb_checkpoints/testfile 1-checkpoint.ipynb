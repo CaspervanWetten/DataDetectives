{
 "cells": [
  {
   "cell_type": "code",
   "execution_count": 1,
   "id": "5e674294-e005-4fdd-872b-a7f6e2fedfe4",
   "metadata": {},
   "outputs": [
    {
     "name": "stdout",
     "output_type": "stream",
     "text": [
      "Vrouw-onvriendelijkheid is niet iets om over te lachen!\n"
     ]
    }
   ],
   "source": [
    "print(\"Vrouw-onvriendelijkheid is niet iets om over te lachen!\") "
   ]
  },
  {
   "cell_type": "code",
   "execution_count": 2,
   "id": "eb6a3c3a-2807-4796-a12a-83f4017b07dd",
   "metadata": {},
   "outputs": [
    {
     "name": "stdout",
     "output_type": "stream",
     "text": [
      "Vrouw-onvriendelijkheid is niet iets om over te lachen!\n"
     ]
    }
   ],
   "source": [
    "print(\"Vrouw-onvriendelijkheid is niet iets om over te lachen!\") "
   ]
  },
  {
   "cell_type": "code",
   "execution_count": null,
   "id": "463e74df-e6fc-43b4-9cb9-6bcd7b424e87",
   "metadata": {},
   "outputs": [],
   "source": []
  }
 ],
 "metadata": {
  "kernelspec": {
   "display_name": "Python 3 (ipykernel)",
   "language": "python",
   "name": "python3"
  },
  "language_info": {
   "codemirror_mode": {
    "name": "ipython",
    "version": 3
   },
   "file_extension": ".py",
   "mimetype": "text/x-python",
   "name": "python",
   "nbconvert_exporter": "python",
   "pygments_lexer": "ipython3",
   "version": "3.11.5"
  }
 },
 "nbformat": 4,
 "nbformat_minor": 5
}
