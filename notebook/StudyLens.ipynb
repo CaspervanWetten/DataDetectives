{
 "cells": [
  {
   "cell_type": "code",
   "execution_count": 8,
   "id": "1f4d8aa7-8d3d-4c8c-9ef0-dcb7612a9754",
   "metadata": {},
   "outputs": [],
   "source": [
    "import pandas as pd\n",
    "from sqlalchemy import create_engine, text, inspect, Table\n",
    "\n",
    "pets_df = pd.read_csv(\"data/Pets.csv\", delimiter=\",\")\n",
    "owners_df = pd.read_csv(\"data/Owners.csv\", delimiter=\",\")\n",
    "procedures_df = pd.read_csv(\"data/ProceduresHistory.csv\", delimiter=\",\")\n",
    "\n",
    "engine = create_engine(\"postgresql://student:infomdss@db_dashboard:5432/dashboard\")\n",
    "\n",
    "with engine.connect() as conn:\n",
    "    conn.execute(text(\"DROP TABLE IF EXISTS pets CASCADE;\"))\n",
    "    conn.execute(text(\"DROP TABLE IF EXISTS owners CASCADE;\"))\n",
    "    conn.execute(text(\"DROP TABLE IF EXISTS procedures CASCADE;\"))\n",
    "\n",
    "pets_df.to_sql(\"pets\", engine, if_exists=\"replace\", index=True)\n",
    "owners_df.to_sql(\"owners\", engine, if_exists=\"replace\", index=True)\n",
    "procedures_df.to_sql(\"procedures\", engine, if_exists=\"replace\", index=True)\n",
    "\n",
    "\n",
    "\n",
    "procedures_table = pd.read_sql_table('procedures', engine, index_col='index')"
   ]
  }
 ],
 "metadata": {
  "kernelspec": {
   "display_name": "Python 3 (ipykernel)",
   "language": "python",
   "name": "python3"
  },
  "language_info": {
   "codemirror_mode": {
    "name": "ipython",
    "version": 3
   },
   "file_extension": ".py",
   "mimetype": "text/x-python",
   "name": "python",
   "nbconvert_exporter": "python",
   "pygments_lexer": "ipython3",
   "version": "3.11.5"
  }
 },
 "nbformat": 4,
 "nbformat_minor": 5
}
