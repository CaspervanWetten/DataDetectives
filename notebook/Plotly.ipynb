{
 "cells": [
  {
   "cell_type": "code",
   "execution_count": null,
   "id": "c35e829a-5dab-4f5b-9aae-b9c89be7ae1a",
   "metadata": {},
   "outputs": [],
   "source": [
    "pip install scipy pandas numpy statistics geojson plotly"
   ]
  },
  {
   "cell_type": "code",
   "execution_count": null,
   "id": "354da9ea-431f-4335-8ad2-6d371ba57a94",
   "metadata": {},
   "outputs": [],
   "source": [
    "import plotly.express as px\n",
    "df = px.data.gapminder()\n",
    "fig = px.choropleth(df, locations=\"iso_alpha\", color=\"lifeExp\", hover_name=\"country\", animation_frame=\"year\", range_color=[20,80])\n",
    "fig.show()\n"
   ]
  },
  {
   "cell_type": "code",
   "execution_count": null,
   "id": "a6b9780e-e34b-4f14-99b4-15fb3d928bd4",
   "metadata": {},
   "outputs": [],
   "source": [
    "import plotly.graph_objects as go\n",
    "import plotly.express as px\n",
    "import pandas as pd\n",
    "\n",
    "df = pd.read_csv(\"data/TemperatureData.csv\", dtype={\"Temperature\": float})\n",
    "# Maak de choropleth-kaart\n",
    "max = df[\"Temperature\"].max()\n",
    "min = df[\"Temperature\"].min()\n",
    "\n",
    "fig = go.Figure(data=go.Choropleth(\n",
    "    locations=df['Country'],\n",
    "    z=df['Temperature'],\n",
    "    locationmode='country names',\n",
    "    marker_line_color='darkgray',\n",
    "    marker_line_width=0.5,\n",
    "    colorbar_title='Temperature (°C)',\n",
    "    colorscale=[[0, \"blue\"], [1, \"red\"]],\n",
    "    # animation_frame=df['Date'],\n",
    "    hovertemplate='%{location}: %{z:.2f}°C'\n",
    "    \n",
    "))\n",
    "\n",
    "fig.update_layout(\n",
    "    title_text='Global Temperature',\n",
    "    geo=dict(\n",
    "        showframe=False,\n",
    "        showcoastlines=False,\n",
    "        projection_type='equirectangular',\n",
    "        scope=\"europe\"\n",
    "    ),\n",
    "    clickmode='event+select'\n",
    ")\n",
    "\n",
    "\n",
    "\n",
    "fig.update_layout(height=500, margin={\"r\":0,\"t\":0,\"l\":0,\"b\":0})\n",
    "fig.show()"
   ]
  }
 ],
 "metadata": {
  "kernelspec": {
   "display_name": "Python 3 (ipykernel)",
   "language": "python",
   "name": "python3"
  },
  "language_info": {
   "codemirror_mode": {
    "name": "ipython",
    "version": 3
   },
   "file_extension": ".py",
   "mimetype": "text/x-python",
   "name": "python",
   "nbconvert_exporter": "python",
   "pygments_lexer": "ipython3",
   "version": "3.11.5"
  }
 },
 "nbformat": 4,
 "nbformat_minor": 5
}
