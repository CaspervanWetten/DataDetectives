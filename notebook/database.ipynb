{
 "cells": [
  {
   "cell_type": "code",
   "execution_count": null,
   "id": "c71031fb-281a-4e80-8da6-fb7d79458eab",
   "metadata": {},
   "outputs": [],
   "source": [
    "# Imports\n",
    "\n",
    "from sqlalchemy import create_engine, text, inspect, Table\n",
    "import pandas as pd"
   ]
  },
  {
   "cell_type": "code",
   "execution_count": null,
   "id": "35cc327b-848b-4a2e-adec-43081f46a23c",
   "metadata": {},
   "outputs": [],
   "source": [
    "# Load the csv into a pandas dataframe (https://www.w3schools.com/python/pandas/pandas_dataframes.asp)\n",
    "popdf = pd.read_csv(\"pop_data.csv\", delimiter=\",\",index_col=0)\n",
    "tempdf = pd.read_csv(\"tempmeans.csv\", delimiter=\",\",index_col=0)"
   ]
  },
  {
   "cell_type": "code",
   "execution_count": null,
   "id": "5ae329f0-8ec3-421b-822c-819427c620fa",
   "metadata": {},
   "outputs": [],
   "source": [
    "# Create a SQLAlchemy engine to connect to the PostgreSQL database\n",
    "engine = create_engine(\"postgresql://student:infomdss@db_dashboard:5432/dashboard\")\n",
    "\n",
    "# Establish a connection to the database using the engine\n",
    "# The 'with' statement ensures that the connection is properly closed when done\n",
    "    # Execute an SQL command to drop the 'population' table if it exists\n",
    "    # The text() function allows you to execute raw SQL statements\n",
    "    \n",
    "\n",
    "# Assuming you have a DataFrame named 'world_population_df', the following line\n",
    "# writes the data from the DataFrame to a new 'population' table in the database\n",
    "# If the 'population' table already exists, it will be replaced with the new data\n",
    "# This prints the number of rows entered in the database table\n"
   ]
  },
  {
   "cell_type": "code",
   "execution_count": null,
   "id": "68856252-7ea8-46ec-8981-ecbac9686e5c",
   "metadata": {},
   "outputs": [],
   "source": []
  },
  {
   "cell_type": "code",
   "execution_count": null,
   "id": "80cf1af5-3938-41ed-b510-1e61abc091a4",
   "metadata": {},
   "outputs": [],
   "source": [
    "query_1 = '''SELECT o.name, o.surname, p.proceduretype \n",
    " FROM procedures as p \n",
    " INNER JOIN Pets as a\n",
    "ON p.petid = a.petid\n",
    " INNER JOIN owners as o\n",
    " ON a.ownerid = o.ownerid\n",
    " ORDER BY o.name\n",
    " '''\n",
    "con = engine.connect()\n",
    "#############################\n",
    "table_1 = pd.read_sql(query_1, con) if not query_1.isspace() else 0\n",
    "table_1\n",
    "query_2 = '''SELECT \"temp\" soort, Country_Code\n",
    "    FROM temperature\n",
    "    '''"
   ]
  },
  {
   "cell_type": "code",
   "execution_count": null,
   "id": "b769440f-0580-4568-a35a-367e15ba9153",
   "metadata": {},
   "outputs": [],
   "source": [
    "query_2 = f'''SELECT {country}\n",
    "    FROM {temperature}\n",
    "    WHERE country = 'SWE';\n",
    "    ''' \n",
    "con = engine.connect()\n",
    "table_1 = pd.read_sql(query_2, con) if not query_2.isspace() else 0\n",
    "table_1"
   ]
  },
  {
   "cell_type": "code",
   "execution_count": null,
   "id": "4276cb42-aaa7-49b6-8d0d-95153a171444",
   "metadata": {},
   "outputs": [],
   "source": [
    "query_3 = '''SELECT * FROM temperature'''\n",
    "\n",
    "con = engine.connect()\n",
    "table = pd.read_sql(query_3, con)\n",
    "table"
   ]
  },
  {
   "cell_type": "code",
   "execution_count": null,
   "id": "bd78ea9e-cc46-4d16-a828-8e91191013a2",
   "metadata": {},
   "outputs": [],
   "source": [
    "from sqlalchemy import create_engine, text, inspect, Table\n",
    "import pandas as pd\n",
    "\n",
    "engine = create_engine(\"postgresql://student:infomdss@db_dashboard:5432/dashboard\")\n",
    "\n",
    "with engine.connect() as conn:\n",
    "    conn.execute(text(\"DROP TABLE IF EXISTS pets CASCADE;\"))\n",
    "    conn.execute(text(\"DROP TABLE IF EXISTS owners CASCADE;\"))\n",
    "    conn.execute(text(\"DROP TABLE IF EXISTS procedures CASCADE;\"))"
   ]
  },
  {
   "cell_type": "code",
   "execution_count": null,
   "id": "a116706f-09c2-4848-b4e1-3179cc65c1d0",
   "metadata": {},
   "outputs": [],
   "source": [
    "pets_df = pd.read_csv(\"Pets.csv\", delimiter=\",\")\n",
    "owners_df = pd.read_csv(\"Owners.csv\", delimiter=\",\")\n",
    "procedures_df = pd.read_csv(\"ProceduresHistory.csv\", delimiter=\",\")\n",
    "print (pets_df.head())"
   ]
  },
  {
   "cell_type": "code",
   "execution_count": null,
   "id": "2e5119d1-ec7a-42a5-b73a-5b4f9963c991",
   "metadata": {},
   "outputs": [],
   "source": [
    "pets_df.to_sql(\"pets\", engine, if_exists=\"replace\", index=True)\n",
    "owners_df.to_sql(\"owners\", engine, if_exists=\"replace\", index=True)\n",
    "procedures_df.to_sql(\"procedures\", engine, if_exists=\"replace\", index=True)"
   ]
  },
  {
   "cell_type": "code",
   "execution_count": null,
   "id": "0e11dd00-4679-4beb-bb81-f15f7a1c45fc",
   "metadata": {},
   "outputs": [],
   "source": [
    "procedures_table = pd.read_sql_table('procedures', engine, index_col='index')\n",
    "procedures_table"
   ]
  },
  {
   "cell_type": "code",
   "execution_count": null,
   "id": "035d5d4d-8209-4693-bc7f-98730ec57c16",
   "metadata": {},
   "outputs": [],
   "source": [
    "query_1 = '''SELECT o.name, o.surname, p.proceduretype \n",
    " FROM procedures as p \n",
    " INNER JOIN Pets as a\n",
    "ON p.petid = a.petid\n",
    " INNER JOIN owners as o\n",
    " ON a.ownerid = o.ownerid\n",
    " ORDER BY o.name\n",
    " '''\n",
    "con = engine.connect()\n",
    "#############################\n",
    "table_1 = pd.read_sql(query_1, con) if not query_1.isspace() else 0\n",
    "table_1"
   ]
  },
  {
   "cell_type": "code",
   "execution_count": null,
   "id": "22d9226b-b65a-4559-8500-40d9294694ca",
   "metadata": {},
   "outputs": [],
   "source": [
    "query_4 = '''SELECT o.name, COUNT(*) as Total\n",
    "FROM pets as a\n",
    "LEFT OUTER JOIN owners as o\n",
    "ON a.ownerid = o.ownerid\n",
    "GROUP BY o.name\n",
    "ORDER BY Total DESC\n",
    "'''\n",
    "con = engine.connect()\n",
    "#############################\n",
    "table_4 = pd.read_sql(query_4, con) if not query_4.isspace() else 0\n",
    "table_4"
   ]
  },
  {
   "cell_type": "code",
   "execution_count": null,
   "id": "ac3950a6-080b-48e0-9d7f-df0eff58a304",
   "metadata": {},
   "outputs": [],
   "source": [
    "# Imports\n",
    "\n",
    "from sqlalchemy import create_engine, text, inspect, Table\n",
    "import pandas as pd\n",
    "\n",
    "engine = create_engine(\"postgresql://student:infomdss@db_dashboard:5432/dashboard\")\n",
    "\n",
    "con = engine.connect()\n",
    "df = pd.read_sql(\"SELECT * FROM temperature\", con)\n",
    "df.head()"
   ]
  },
  {
   "cell_type": "code",
   "execution_count": null,
   "id": "ebedf42b-32f4-4c48-8ed6-d82e18b04b0e",
   "metadata": {},
   "outputs": [],
   "source": [
    "df = pd.read_sql(\"SELECT * FROM electricity\", con)\n",
    "df.head()"
   ]
  },
  {
   "cell_type": "code",
   "execution_count": null,
   "id": "8d4320eb-afb9-45cf-98c1-7941f9ccdd42",
   "metadata": {},
   "outputs": [],
   "source": [
    "df = pd.read_sql(\"SELECT * FROM population\", con)\n",
    "df.head()"
   ]
  }
 ],
 "metadata": {
  "kernelspec": {
   "display_name": "Python 3 (ipykernel)",
   "language": "python",
   "name": "python3"
  },
  "language_info": {
   "codemirror_mode": {
    "name": "ipython",
    "version": 3
   },
   "file_extension": ".py",
   "mimetype": "text/x-python",
   "name": "python",
   "nbconvert_exporter": "python",
   "pygments_lexer": "ipython3",
   "version": "3.11.6"
  }
 },
 "nbformat": 4,
 "nbformat_minor": 5
}
