{
 "cells": [
  {
   "cell_type": "code",
   "execution_count": null,
   "id": "c71031fb-281a-4e80-8da6-fb7d79458eab",
   "metadata": {},
   "outputs": [],
   "source": [
    "# Imports\n",
    "\n",
    "from sqlalchemy import create_engine, text, inspect, Table\n",
    "import pandas as pd"
   ]
  },
  {
   "cell_type": "code",
   "execution_count": null,
   "id": "35cc327b-848b-4a2e-adec-43081f46a23c",
   "metadata": {},
   "outputs": [],
   "source": [
    "# Load the csv into a pandas dataframe (https://www.w3schools.com/python/pandas/pandas_dataframes.asp)\n",
    "popdf = pd.read_csv(\"pop_data.csv\", delimiter=\",\",index_col=0)\n",
    "tempdf = pd.read_csv(\"tempmeans.csv\", delimiter=\",\",index_col=0)"
   ]
  },
  {
   "cell_type": "code",
   "execution_count": null,
   "id": "5ae329f0-8ec3-421b-822c-819427c620fa",
   "metadata": {},
   "outputs": [],
   "source": [
    "# Create a SQLAlchemy engine to connect to the PostgreSQL database\n",
    "engine = create_engine(\"postgresql://student:infomdss@db_dashboard:5432/dashboard\")\n",
    "\n",
    "# Establish a connection to the database using the engine\n",
    "# The 'with' statement ensures that the connection is properly closed when done\n",
    "with engine.connect() as conn:\n",
    "    # Execute an SQL command to drop the 'population' table if it exists\n",
    "    # The text() function allows you to execute raw SQL statements\n",
    "    result = conn.execute(text(\"DROP TABLE IF EXISTS population CASCADE;\"))\n",
    "    result = conn.execute(text(\"DROP TABLE IF EXISTS temperature CASCADE;\"))\n",
    "\n",
    "# Assuming you have a DataFrame named 'world_population_df', the following line\n",
    "# writes the data from the DataFrame to a new 'population' table in the database\n",
    "# If the 'population' table already exists, it will be replaced with the new data\n",
    "# This prints the number of rows entered in the database table\n",
    "popdf.to_sql(\"population\", engine, if_exists=\"replace\", index=True)\n",
    "tempdf.to_sql(\"temperature\", engine, if_exists=\"replace\", index=True)"
   ]
  },
  {
   "cell_type": "code",
   "execution_count": null,
   "id": "68856252-7ea8-46ec-8981-ecbac9686e5c",
   "metadata": {},
   "outputs": [],
   "source": []
  },
  {
   "cell_type": "code",
   "execution_count": null,
   "id": "80cf1af5-3938-41ed-b510-1e61abc091a4",
   "metadata": {},
   "outputs": [],
   "source": [
    "query_1 = '''SELECT o.name, o.surname, p.proceduretype \n",
    " FROM procedures as p \n",
    " INNER JOIN Pets as a\n",
    "ON p.petid = a.petid\n",
    " INNER JOIN owners as o\n",
    " ON a.ownerid = o.ownerid\n",
    " ORDER BY o.name\n",
    " '''\n",
    "con = engine.connect()\n",
    "#############################\n",
    "table_1 = pd.read_sql(query_1, con) if not query_1.isspace() else 0\n",
    "table_1\n",
    "query_2 = '''SELECT \"temp\" soort, Country_Code\n",
    "    FROM temperature\n",
    "    '''"
   ]
  },
  {
   "cell_type": "code",
   "execution_count": null,
   "id": "b769440f-0580-4568-a35a-367e15ba9153",
   "metadata": {},
   "outputs": [],
   "source": [
    "query_2 = '''SELECT 'temp' eigenschap, country, yr1986, yr2000\n",
    "    FROM temperature\n",
    "    UNION ALL\n",
    "    SELECT 'pop', country, yr1986, yr2000\n",
    "    FROM population\n",
    "    ORDER BY country, eigenschap \n",
    "    '''\n",
    "con = engine.connect()\n",
    "table_1 = pd.read_sql(query_2, con) if not query_2.isspace() else 0\n",
    "table_1"
   ]
  },
  {
   "cell_type": "code",
   "execution_count": null,
   "id": "4276cb42-aaa7-49b6-8d0d-95153a171444",
   "metadata": {},
   "outputs": [],
   "source": [
    "query_3 = '''SELECT * FROM temperature'''\n",
    "\n",
    "con = engine.connect()\n",
    "table = pd.read_sql(query_3, con)\n",
    "table"
   ]
  },
  {
   "cell_type": "code",
   "execution_count": null,
   "id": "bd78ea9e-cc46-4d16-a828-8e91191013a2",
   "metadata": {},
   "outputs": [],
   "source": [
    "from sqlalchemy import create_engine, text, inspect, Table\n",
    "import pandas as pd\n",
    "\n",
    "engine = create_engine(\"postgresql://student:infomdss@db_dashboard:5432/dashboard\")\n",
    "\n",
    "with engine.connect() as conn:\n",
    "    conn.execute(text(\"DROP TABLE IF EXISTS pets CASCADE;\"))\n",
    "    conn.execute(text(\"DROP TABLE IF EXISTS owners CASCADE;\"))\n",
    "    conn.execute(text(\"DROP TABLE IF EXISTS procedures CASCADE;\"))"
   ]
  },
  {
   "cell_type": "code",
   "execution_count": null,
   "id": "a116706f-09c2-4848-b4e1-3179cc65c1d0",
   "metadata": {},
   "outputs": [],
   "source": [
    "pets_df = pd.read_csv(\"Pets.csv\", delimiter=\",\")\n",
    "owners_df = pd.read_csv(\"Owners.csv\", delimiter=\",\")\n",
    "procedures_df = pd.read_csv(\"ProceduresHistory.csv\", delimiter=\",\")\n",
    "print (pets_df.head())"
   ]
  },
  {
   "cell_type": "code",
   "execution_count": null,
   "id": "2e5119d1-ec7a-42a5-b73a-5b4f9963c991",
   "metadata": {},
   "outputs": [],
   "source": [
    "pets_df.to_sql(\"pets\", engine, if_exists=\"replace\", index=True)\n",
    "owners_df.to_sql(\"owners\", engine, if_exists=\"replace\", index=True)\n",
    "procedures_df.to_sql(\"procedures\", engine, if_exists=\"replace\", index=True)"
   ]
  },
  {
   "cell_type": "code",
   "execution_count": null,
   "id": "0e11dd00-4679-4beb-bb81-f15f7a1c45fc",
   "metadata": {},
   "outputs": [],
   "source": [
    "procedures_table = pd.read_sql_table('procedures', engine, index_col='index')\n",
    "procedures_table"
   ]
  },
  {
   "cell_type": "code",
   "execution_count": null,
   "id": "035d5d4d-8209-4693-bc7f-98730ec57c16",
   "metadata": {},
   "outputs": [],
   "source": [
    "query_1 = '''SELECT o.name, o.surname, p.proceduretype \n",
    " FROM procedures as p \n",
    " INNER JOIN Pets as a\n",
    "ON p.petid = a.petid\n",
    " INNER JOIN owners as o\n",
    " ON a.ownerid = o.ownerid\n",
    " ORDER BY o.name\n",
    " '''\n",
    "con = engine.connect()\n",
    "#############################\n",
    "table_1 = pd.read_sql(query_1, con) if not query_1.isspace() else 0\n",
    "table_1"
   ]
  },
  {
   "cell_type": "code",
   "execution_count": null,
   "id": "22d9226b-b65a-4559-8500-40d9294694ca",
   "metadata": {},
   "outputs": [],
   "source": [
    "query_4 = '''SELECT o.name, COUNT(*) as Total\n",
    "FROM pets as a\n",
    "LEFT OUTER JOIN owners as o\n",
    "ON a.ownerid = o.ownerid\n",
    "GROUP BY o.name\n",
    "ORDER BY Total DESC\n",
    "'''\n",
    "con = engine.connect()\n",
    "#############################\n",
    "table_4 = pd.read_sql(query_4, con) if not query_4.isspace() else 0\n",
    "table_4"
   ]
  },
  {
   "cell_type": "code",
   "execution_count": 4,
   "id": "ac3950a6-080b-48e0-9d7f-df0eff58a304",
   "metadata": {},
   "outputs": [
    {
     "data": {
      "text/html": [
       "<div>\n",
       "<style scoped>\n",
       "    .dataframe tbody tr th:only-of-type {\n",
       "        vertical-align: middle;\n",
       "    }\n",
       "\n",
       "    .dataframe tbody tr th {\n",
       "        vertical-align: top;\n",
       "    }\n",
       "\n",
       "    .dataframe thead th {\n",
       "        text-align: right;\n",
       "    }\n",
       "</style>\n",
       "<table border=\"1\" class=\"dataframe\">\n",
       "  <thead>\n",
       "    <tr style=\"text-align: right;\">\n",
       "      <th></th>\n",
       "      <th>index</th>\n",
       "      <th>Date</th>\n",
       "      <th>Country</th>\n",
       "      <th>Temperature</th>\n",
       "    </tr>\n",
       "  </thead>\n",
       "  <tbody>\n",
       "    <tr>\n",
       "      <th>0</th>\n",
       "      <td>1736</td>\n",
       "      <td>2000-01</td>\n",
       "      <td>AUT</td>\n",
       "      <td>-3.0</td>\n",
       "    </tr>\n",
       "    <tr>\n",
       "      <th>1</th>\n",
       "      <td>1737</td>\n",
       "      <td>2000-02</td>\n",
       "      <td>AUT</td>\n",
       "      <td>2.0</td>\n",
       "    </tr>\n",
       "    <tr>\n",
       "      <th>2</th>\n",
       "      <td>1738</td>\n",
       "      <td>2000-03</td>\n",
       "      <td>AUT</td>\n",
       "      <td>4.0</td>\n",
       "    </tr>\n",
       "    <tr>\n",
       "      <th>3</th>\n",
       "      <td>1739</td>\n",
       "      <td>2000-04</td>\n",
       "      <td>AUT</td>\n",
       "      <td>10.0</td>\n",
       "    </tr>\n",
       "    <tr>\n",
       "      <th>4</th>\n",
       "      <td>1740</td>\n",
       "      <td>2000-05</td>\n",
       "      <td>AUT</td>\n",
       "      <td>14.0</td>\n",
       "    </tr>\n",
       "  </tbody>\n",
       "</table>\n",
       "</div>"
      ],
      "text/plain": [
       "   index     Date Country  Temperature\n",
       "0   1736  2000-01     AUT         -3.0\n",
       "1   1737  2000-02     AUT          2.0\n",
       "2   1738  2000-03     AUT          4.0\n",
       "3   1739  2000-04     AUT         10.0\n",
       "4   1740  2000-05     AUT         14.0"
      ]
     },
     "execution_count": 4,
     "metadata": {},
     "output_type": "execute_result"
    }
   ],
   "source": [
    "# Imports\n",
    "\n",
    "from sqlalchemy import create_engine, text, inspect, Table\n",
    "import pandas as pd\n",
    "\n",
    "engine = create_engine(\"postgresql://student:infomdss@db_dashboard:5432/dashboard\")\n",
    "\n",
    "con = engine.connect()\n",
    "df = pd.read_sql(\"SELECT * FROM temperature\", con)\n",
    "df.head()"
   ]
  },
  {
   "cell_type": "code",
   "execution_count": 3,
   "id": "ebedf42b-32f4-4c48-8ed6-d82e18b04b0e",
   "metadata": {},
   "outputs": [
    {
     "data": {
      "text/html": [
       "<div>\n",
       "<style scoped>\n",
       "    .dataframe tbody tr th:only-of-type {\n",
       "        vertical-align: middle;\n",
       "    }\n",
       "\n",
       "    .dataframe tbody tr th {\n",
       "        vertical-align: top;\n",
       "    }\n",
       "\n",
       "    .dataframe thead th {\n",
       "        text-align: right;\n",
       "    }\n",
       "</style>\n",
       "<table border=\"1\" class=\"dataframe\">\n",
       "  <thead>\n",
       "    <tr style=\"text-align: right;\">\n",
       "      <th></th>\n",
       "      <th>geo\\TIME_PERIOD</th>\n",
       "      <th>indic</th>\n",
       "      <th>Date</th>\n",
       "      <th>GWH</th>\n",
       "    </tr>\n",
       "  </thead>\n",
       "  <tbody>\n",
       "    <tr>\n",
       "      <th>0</th>\n",
       "      <td>AT</td>\n",
       "      <td>Consumption</td>\n",
       "      <td>2008-01</td>\n",
       "      <td>6187.0</td>\n",
       "    </tr>\n",
       "    <tr>\n",
       "      <th>1</th>\n",
       "      <td>BE</td>\n",
       "      <td>Consumption</td>\n",
       "      <td>2008-01</td>\n",
       "      <td>8400.0</td>\n",
       "    </tr>\n",
       "    <tr>\n",
       "      <th>2</th>\n",
       "      <td>BG</td>\n",
       "      <td>Consumption</td>\n",
       "      <td>2008-01</td>\n",
       "      <td>3808.0</td>\n",
       "    </tr>\n",
       "    <tr>\n",
       "      <th>3</th>\n",
       "      <td>CY</td>\n",
       "      <td>Consumption</td>\n",
       "      <td>2008-01</td>\n",
       "      <td>436.0</td>\n",
       "    </tr>\n",
       "    <tr>\n",
       "      <th>4</th>\n",
       "      <td>CZ</td>\n",
       "      <td>Consumption</td>\n",
       "      <td>2008-01</td>\n",
       "      <td>6352.0</td>\n",
       "    </tr>\n",
       "  </tbody>\n",
       "</table>\n",
       "</div>"
      ],
      "text/plain": [
       "  geo\\TIME_PERIOD        indic     Date     GWH\n",
       "0              AT  Consumption  2008-01  6187.0\n",
       "1              BE  Consumption  2008-01  8400.0\n",
       "2              BG  Consumption  2008-01  3808.0\n",
       "3              CY  Consumption  2008-01   436.0\n",
       "4              CZ  Consumption  2008-01  6352.0"
      ]
     },
     "execution_count": 3,
     "metadata": {},
     "output_type": "execute_result"
    }
   ],
   "source": [
    "df = pd.read_sql(\"SELECT * FROM electricity\", con)\n",
    "df.head()"
   ]
  },
  {
   "cell_type": "code",
   "execution_count": 2,
   "id": "8d4320eb-afb9-45cf-98c1-7941f9ccdd42",
   "metadata": {},
   "outputs": [
    {
     "data": {
      "text/html": [
       "<div>\n",
       "<style scoped>\n",
       "    .dataframe tbody tr th:only-of-type {\n",
       "        vertical-align: middle;\n",
       "    }\n",
       "\n",
       "    .dataframe tbody tr th {\n",
       "        vertical-align: top;\n",
       "    }\n",
       "\n",
       "    .dataframe thead th {\n",
       "        text-align: right;\n",
       "    }\n",
       "</style>\n",
       "<table border=\"1\" class=\"dataframe\">\n",
       "  <thead>\n",
       "    <tr style=\"text-align: right;\">\n",
       "      <th></th>\n",
       "      <th>country</th>\n",
       "      <th>Date</th>\n",
       "      <th>Population</th>\n",
       "    </tr>\n",
       "  </thead>\n",
       "  <tbody>\n",
       "    <tr>\n",
       "      <th>0</th>\n",
       "      <td>AUT</td>\n",
       "      <td>2008</td>\n",
       "      <td>8321496.0</td>\n",
       "    </tr>\n",
       "    <tr>\n",
       "      <th>1</th>\n",
       "      <td>AUT</td>\n",
       "      <td>2014</td>\n",
       "      <td>8546356.0</td>\n",
       "    </tr>\n",
       "    <tr>\n",
       "      <th>2</th>\n",
       "      <td>AUT</td>\n",
       "      <td>2017</td>\n",
       "      <td>8797566.0</td>\n",
       "    </tr>\n",
       "    <tr>\n",
       "      <th>3</th>\n",
       "      <td>AUT</td>\n",
       "      <td>2021</td>\n",
       "      <td>8955797.0</td>\n",
       "    </tr>\n",
       "    <tr>\n",
       "      <th>4</th>\n",
       "      <td>AUT</td>\n",
       "      <td>2016</td>\n",
       "      <td>8736668.0</td>\n",
       "    </tr>\n",
       "  </tbody>\n",
       "</table>\n",
       "</div>"
      ],
      "text/plain": [
       "  country  Date  Population\n",
       "0     AUT  2008   8321496.0\n",
       "1     AUT  2014   8546356.0\n",
       "2     AUT  2017   8797566.0\n",
       "3     AUT  2021   8955797.0\n",
       "4     AUT  2016   8736668.0"
      ]
     },
     "execution_count": 2,
     "metadata": {},
     "output_type": "execute_result"
    }
   ],
   "source": [
    "df = pd.read_sql(\"SELECT * FROM population\", con)\n",
    "df.head()"
   ]
  }
 ],
 "metadata": {
  "kernelspec": {
   "display_name": "Python 3 (ipykernel)",
   "language": "python",
   "name": "python3"
  },
  "language_info": {
   "codemirror_mode": {
    "name": "ipython",
    "version": 3
   },
   "file_extension": ".py",
   "mimetype": "text/x-python",
   "name": "python",
   "nbconvert_exporter": "python",
   "pygments_lexer": "ipython3",
   "version": "3.11.6"
  }
 },
 "nbformat": 4,
 "nbformat_minor": 5
}
