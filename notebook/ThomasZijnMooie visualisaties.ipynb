{
 "cells": [
  {
   "cell_type": "code",
   "execution_count": 1,
   "id": "d29a64d6-a598-4c7c-a1bb-53250987878c",
   "metadata": {},
   "outputs": [],
   "source": [
    "import pandas as pd\n",
    "import pycountry\n",
    "import dash\n",
    "from dash import dcc\n",
    "from dash import html\n",
    "import plotly.express as px\n",
    "from dash.dependencies import Input, Output\n"
   ]
  },
  {
   "cell_type": "code",
   "execution_count": 4,
   "id": "7971525d-d12d-4a2d-8568-3e20bff2cee9",
   "metadata": {},
   "outputs": [],
   "source": [
    " #Load the CSV file\n",
    "df = pd.read_csv('data/TemperatureData.csv')\n",
    "\n",
    "# Function to convert alpha-2 country codes to alpha-3\n",
    "def convert_alpha2_to_alpha3(alpha2_code):\n",
    "    try:\n",
    "        return pycountry.countries.get(alpha_2=alpha2_code).alpha_3\n",
    "    except AttributeError:\n",
    "        print(f\"Kan de code niet vinden: {alpha2_code}\")\n",
    "        return None\n",
    "\n",
    "# Apply the alpha-3 country codes\n",
    "df['Country'] = df['Country'].apply(convert_alpha2_to_alpha3)\n",
    "\n",
    "# Determine the minimum and maximum temperature in the dataset\n",
    "min_temp = df['Temperature'].min()\n",
    "max_temp = df['Temperature'].max()\n",
    "df['Date'] = pd.to_datetime(df['Date'])\n",
    "\n",
    "# Extract year and month from the date\n",
    "df['Year'] = df['Date'].dt.year\n",
    "df['Month'] = df['Date'].dt.month"
   ]
  },
  {
   "cell_type": "code",
   "execution_count": null,
   "id": "0676ed34-975e-42cb-8ad1-1f19da50a388",
   "metadata": {},
   "outputs": [],
   "source": []
  },
  {
   "cell_type": "code",
   "execution_count": 5,
   "id": "5f57ea13-8cc9-4d37-acc1-33be47555c2f",
   "metadata": {},
   "outputs": [
    {
     "name": "stdout",
     "output_type": "stream",
     "text": [
      "je vader\n"
     ]
    },
    {
     "data": {
      "text/html": [
       "\n",
       "        <iframe\n",
       "            width=\"100%\"\n",
       "            height=\"650\"\n",
       "            src=\"http://127.0.0.1:7778/\"\n",
       "            frameborder=\"0\"\n",
       "            allowfullscreen\n",
       "            \n",
       "        ></iframe>\n",
       "        "
      ],
      "text/plain": [
       "<IPython.lib.display.IFrame at 0x7feacc448810>"
      ]
     },
     "metadata": {},
     "output_type": "display_data"
    }
   ],
   "source": [
    "app = dash.Dash(__name__)\n",
    "\n",
    "# Get a list of available years\n",
    "available_years = df['Year'].unique()\n",
    "\n",
    "app.layout = html.Div([\n",
    "    dcc.Graph(id='choropleth'),\n",
    "    dcc.Checklist(\n",
    "        id='year-checkbox',\n",
    "        options=[{'label': str(year), 'value': year} for year in available_years],\n",
    "        value=[available_years[0]],  # Default to the first year\n",
    "    ),\n",
    "    dcc.Slider(\n",
    "        id='month-slider',\n",
    "        marks={month: str(month) for month in range(1, 13)},\n",
    "        step=None,\n",
    "    )\n",
    "])\n",
    "\n",
    "@app.callback(\n",
    "    Output('month-slider', 'min'),\n",
    "    Output('month-slider', 'max'),\n",
    "    Output('month-slider', 'value'),\n",
    "    Input('year-checkbox', 'value')\n",
    ")\n",
    "def update_slider(selected_years):\n",
    "    min_month = df[df['Year'].isin(selected_years)]['Month'].min()\n",
    "    max_month = df[df['Year'].isin(selected_years)]['Month'].max()\n",
    "    initial_month = min_month\n",
    "    return min_month, max_month, initial_month\n",
    "\n",
    "@app.callback(\n",
    "    Output('choropleth', 'figure'),\n",
    "    Input('year-checkbox', 'value'),\n",
    "    Input('month-slider', 'value')\n",
    ")\n",
    "def update_figure(selected_years, selected_month):\n",
    "    filtered_df = df[(df['Year'].isin(selected_years)) & (df['Month'] == selected_month)]\n",
    "\n",
    "    fig = px.choropleth(filtered_df, \n",
    "                        locations=\"Country\", \n",
    "                        color=\"Temperature\", \n",
    "                        hover_name=\"Country\", \n",
    "                        color_continuous_scale='Viridis',  \n",
    "                        range_color=(min_temp, max_temp))\n",
    "\n",
    "    fig.update_geos(\n",
    "        visible=True, resolution=50, scope=\"europe\",\n",
    "        showcountries=True, countrycolor=\"Black\",\n",
    "        showsubunits=True, subunitcolor=\"Blue\"\n",
    "    )\n",
    "\n",
    "    fig.update_layout(\n",
    "        title={\n",
    "            'text': f'Temperatuurverdeling in Europa voor maand {selected_month} en jaar {selected_years}',\n",
    "            'x': 0.5,  # Center the title\n",
    "            'y': 0.98  # Adjust the vertical position of the title\n",
    "        },\n",
    "        geo=dict(\n",
    "            showframe=False,\n",
    "            showcoastlines=False,\n",
    "            projection_type='equirectangular'\n",
    "        ),\n",
    "        height=1000, margin={\"r\": 0, \"t\": 0, \"l\": 0, \"b\": 0}\n",
    "    )\n",
    "\n",
    "    return fig\n",
    "print(\"je vader\")\n",
    "if __name__ == '__main__':\n",
    "    app.run_server(debug=True, host='127.0.0.1', port=7778)"
   ]
  },
  {
   "cell_type": "code",
   "execution_count": null,
   "id": "c1df164d-107c-4776-b758-ff757841ae77",
   "metadata": {},
   "outputs": [],
   "source": []
  }
 ],
 "metadata": {
  "kernelspec": {
   "display_name": "Python 3 (ipykernel)",
   "language": "python",
   "name": "python3"
  },
  "language_info": {
   "codemirror_mode": {
    "name": "ipython",
    "version": 3
   },
   "file_extension": ".py",
   "mimetype": "text/x-python",
   "name": "python",
   "nbconvert_exporter": "python",
   "pygments_lexer": "ipython3",
   "version": "3.11.6"
  }
 },
 "nbformat": 4,
 "nbformat_minor": 5
}
