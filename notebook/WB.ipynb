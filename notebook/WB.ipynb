{
 "cells": [
  {
   "cell_type": "code",
   "execution_count": 1,
   "id": "43d6eec0-ee0a-40be-b9b6-ab9c1dbd9b54",
   "metadata": {},
   "outputs": [
    {
     "name": "stdout",
     "output_type": "stream",
     "text": [
      "Requirement already satisfied: wbgapi in /opt/conda/lib/python3.11/site-packages (1.0.12)\n",
      "Requirement already satisfied: plotly in /opt/conda/lib/python3.11/site-packages (5.17.0)\n",
      "Requirement already satisfied: requests in /opt/conda/lib/python3.11/site-packages (from wbgapi) (2.31.0)\n",
      "Requirement already satisfied: PyYAML in /opt/conda/lib/python3.11/site-packages (from wbgapi) (6.0.1)\n",
      "Requirement already satisfied: tabulate in /opt/conda/lib/python3.11/site-packages (from wbgapi) (0.9.0)\n",
      "Requirement already satisfied: tenacity>=6.2.0 in /opt/conda/lib/python3.11/site-packages (from plotly) (8.2.3)\n",
      "Requirement already satisfied: packaging in /opt/conda/lib/python3.11/site-packages (from plotly) (23.1)\n",
      "Requirement already satisfied: charset-normalizer<4,>=2 in /opt/conda/lib/python3.11/site-packages (from requests->wbgapi) (3.2.0)\n",
      "Requirement already satisfied: idna<4,>=2.5 in /opt/conda/lib/python3.11/site-packages (from requests->wbgapi) (3.4)\n",
      "Requirement already satisfied: urllib3<3,>=1.21.1 in /opt/conda/lib/python3.11/site-packages (from requests->wbgapi) (2.0.4)\n",
      "Requirement already satisfied: certifi>=2017.4.17 in /opt/conda/lib/python3.11/site-packages (from requests->wbgapi) (2023.7.22)\n",
      "Note: you may need to restart the kernel to use updated packages.\n"
     ]
    }
   ],
   "source": [
    "pip install wbgapi plotly"
   ]
  },
  {
   "cell_type": "code",
   "execution_count": 8,
   "id": "cae2616c-43a6-48bb-942c-21d9e4bccd93",
   "metadata": {},
   "outputs": [
    {
     "data": {
      "text/html": [
       "<div>\n",
       "<style scoped>\n",
       "    .dataframe tbody tr th:only-of-type {\n",
       "        vertical-align: middle;\n",
       "    }\n",
       "\n",
       "    .dataframe tbody tr th {\n",
       "        vertical-align: top;\n",
       "    }\n",
       "\n",
       "    .dataframe thead th {\n",
       "        text-align: right;\n",
       "    }\n",
       "</style>\n",
       "<table border=\"1\" class=\"dataframe\">\n",
       "  <thead>\n",
       "    <tr style=\"text-align: right;\">\n",
       "      <th></th>\n",
       "      <th>country</th>\n",
       "      <th>Date</th>\n",
       "      <th>Population</th>\n",
       "    </tr>\n",
       "  </thead>\n",
       "  <tbody>\n",
       "    <tr>\n",
       "      <th>0</th>\n",
       "      <td>AUT</td>\n",
       "      <td>2008</td>\n",
       "      <td>8321496.0</td>\n",
       "    </tr>\n",
       "    <tr>\n",
       "      <th>162</th>\n",
       "      <td>AUT</td>\n",
       "      <td>2014</td>\n",
       "      <td>8546356.0</td>\n",
       "    </tr>\n",
       "    <tr>\n",
       "      <th>243</th>\n",
       "      <td>AUT</td>\n",
       "      <td>2017</td>\n",
       "      <td>8797566.0</td>\n",
       "    </tr>\n",
       "    <tr>\n",
       "      <th>351</th>\n",
       "      <td>AUT</td>\n",
       "      <td>2021</td>\n",
       "      <td>8955797.0</td>\n",
       "    </tr>\n",
       "    <tr>\n",
       "      <th>216</th>\n",
       "      <td>AUT</td>\n",
       "      <td>2016</td>\n",
       "      <td>8736668.0</td>\n",
       "    </tr>\n",
       "  </tbody>\n",
       "</table>\n",
       "</div>"
      ],
      "text/plain": [
       "    country  Date  Population\n",
       "0       AUT  2008   8321496.0\n",
       "162     AUT  2014   8546356.0\n",
       "243     AUT  2017   8797566.0\n",
       "351     AUT  2021   8955797.0\n",
       "216     AUT  2016   8736668.0"
      ]
     },
     "execution_count": 8,
     "metadata": {},
     "output_type": "execute_result"
    }
   ],
   "source": [
    "import wbgapi as wb\n",
    "\n",
    "def DownloadPopulationData(): \n",
    "    EUList_alpha3 = ['BEL', 'BGR', 'CZE', 'DNK', 'DEU', 'EST', 'IRL', 'GRC', 'ESP', 'FRA', 'HRV', 'ITA', 'CYP', 'LVA', 'LTU', 'LUX', 'HUN', 'MLT', 'NLD', 'AUT', 'POL', 'PRT', 'ROU', 'SVN', 'SVK', 'FIN', 'SWE']\n",
    "   \n",
    "    try:\n",
    "        pop_data = wb.data.DataFrame('SP.POP.TOTL', EUList_alpha3 ,range(2008, 2050, 1))\n",
    "        pop_data_2 = pop_data.reset_index()\n",
    "        pop_data_2.rename(columns = {'economy':'country'}, inplace = True)\n",
    "        pop_data_2.columns = pop_data_2.columns.str.replace(\"YR\", \"\")\n",
    "        pop_data_2 = pop_data_2.melt(id_vars=['country'], var_name='Date', value_name='Population').sort_values(\"country\")\n",
    "        return pop_data_2\n",
    "    except Error as e:\n",
    "        return f\"quit with {e} as error\""
   ]
  }
 ],
 "metadata": {
  "kernelspec": {
   "display_name": "Python 3 (ipykernel)",
   "language": "python",
   "name": "python3"
  },
  "language_info": {
   "codemirror_mode": {
    "name": "ipython",
    "version": 3
   },
   "file_extension": ".py",
   "mimetype": "text/x-python",
   "name": "python",
   "nbconvert_exporter": "python",
   "pygments_lexer": "ipython3",
   "version": "3.11.5"
  }
 },
 "nbformat": 4,
 "nbformat_minor": 5
}
