{
 "cells": [
  {
   "cell_type": "code",
   "execution_count": 1,
   "id": "43d6eec0-ee0a-40be-b9b6-ab9c1dbd9b54",
   "metadata": {},
   "outputs": [
    {
     "name": "stdout",
     "output_type": "stream",
     "text": [
      "Collecting wbgapi\n",
      "  Downloading wbgapi-1.0.12-py3-none-any.whl (36 kB)\n",
      "Collecting plotly\n",
      "  Obtaining dependency information for plotly from https://files.pythonhosted.org/packages/df/79/c80174d711ee26ee5da55a9cc3e248f1ec7a0188b5e4d6bbbbcd09b974b0/plotly-5.17.0-py2.py3-none-any.whl.metadata\n",
      "  Downloading plotly-5.17.0-py2.py3-none-any.whl.metadata (7.0 kB)\n",
      "Requirement already satisfied: requests in /opt/conda/lib/python3.11/site-packages (from wbgapi) (2.31.0)\n",
      "Requirement already satisfied: PyYAML in /opt/conda/lib/python3.11/site-packages (from wbgapi) (6.0.1)\n",
      "Collecting tabulate (from wbgapi)\n",
      "  Downloading tabulate-0.9.0-py3-none-any.whl (35 kB)\n",
      "Collecting tenacity>=6.2.0 (from plotly)\n",
      "  Obtaining dependency information for tenacity>=6.2.0 from https://files.pythonhosted.org/packages/f4/f1/990741d5bb2487d529d20a433210ffa136a367751e454214013b441c4575/tenacity-8.2.3-py3-none-any.whl.metadata\n",
      "  Downloading tenacity-8.2.3-py3-none-any.whl.metadata (1.0 kB)\n",
      "Requirement already satisfied: packaging in /opt/conda/lib/python3.11/site-packages (from plotly) (23.1)\n",
      "Requirement already satisfied: charset-normalizer<4,>=2 in /opt/conda/lib/python3.11/site-packages (from requests->wbgapi) (3.2.0)\n",
      "Requirement already satisfied: idna<4,>=2.5 in /opt/conda/lib/python3.11/site-packages (from requests->wbgapi) (3.4)\n",
      "Requirement already satisfied: urllib3<3,>=1.21.1 in /opt/conda/lib/python3.11/site-packages (from requests->wbgapi) (2.0.4)\n",
      "Requirement already satisfied: certifi>=2017.4.17 in /opt/conda/lib/python3.11/site-packages (from requests->wbgapi) (2023.7.22)\n",
      "Downloading plotly-5.17.0-py2.py3-none-any.whl (15.6 MB)\n",
      "\u001b[2K   \u001b[90m━━━━━━━━━━━━━━━━━━━━━━━━━━━━━━━━━━━━━━━━\u001b[0m \u001b[32m15.6/15.6 MB\u001b[0m \u001b[31m20.3 MB/s\u001b[0m eta \u001b[36m0:00:00\u001b[0m00:01\u001b[0m00:01\u001b[0m\n",
      "\u001b[?25hDownloading tenacity-8.2.3-py3-none-any.whl (24 kB)\n",
      "Installing collected packages: tenacity, tabulate, wbgapi, plotly\n",
      "Successfully installed plotly-5.17.0 tabulate-0.9.0 tenacity-8.2.3 wbgapi-1.0.12\n",
      "Note: you may need to restart the kernel to use updated packages.\n"
     ]
    }
   ],
   "source": [
    "pip install wbgapi plotly"
   ]
  },
  {
   "cell_type": "code",
   "execution_count": 3,
   "id": "cae2616c-43a6-48bb-942c-21d9e4bccd93",
   "metadata": {},
   "outputs": [],
   "source": [
    "import wbgapi as wb\n",
    "\n",
    "def DownloadPopulationData(): \n",
    "    EUList_alpha3 = ['BEL', 'BGR', 'CZE', 'DNK', 'DEU', 'EST', 'IRL', 'GRC', 'ESP', 'FRA', 'HRV', 'ITA', 'CYP', 'LVA', 'LTU', 'LUX', 'HUN', 'MLT', 'NLD', 'AUT', 'POL', 'PRT', 'ROU', 'SVN', 'SVK', 'FIN', 'SWE']\n",
    "   \n",
    "    try:\n",
    "        pop_data = wb.data.DataFrame('SP.POP.TOTL', EUList_alpha3 ,range(2008, 2050, 1))\n",
    "        pop_data_2 = pop_data.reset_index()\n",
    "        pop_data_2.rename(columns = {'economy':'country'}, inplace = True)\n",
    "        pop_data_2.columns = pop_data_2.columns.str.replace(\"YR\", \"\")\n",
    "        pop_data_2 = pop_data_2.melt(id_vars=['country'], var_name='Date', value_name='Population').sort_values(\"country\")\n",
    "        return pop_data_2\n",
    "    except Error as e:\n",
    "        return f\"quit with {e} as error\"\n",
    "\n"
   ]
  }
 ],
 "metadata": {
  "kernelspec": {
   "display_name": "Python 3 (ipykernel)",
   "language": "python",
   "name": "python3"
  },
  "language_info": {
   "codemirror_mode": {
    "name": "ipython",
    "version": 3
   },
   "file_extension": ".py",
   "mimetype": "text/x-python",
   "name": "python",
   "nbconvert_exporter": "python",
   "pygments_lexer": "ipython3",
   "version": "3.11.5"
  }
 },
 "nbformat": 4,
 "nbformat_minor": 5
}
