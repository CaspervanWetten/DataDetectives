{
 "cells": [
  {
   "cell_type": "code",
   "execution_count": 54,
   "id": "537efa65-314d-485b-978e-84499a716f6a",
   "metadata": {},
   "outputs": [
    {
     "name": "stdout",
     "output_type": "stream",
     "text": [
      "Requirement already satisfied: pycountry in /opt/conda/lib/python3.11/site-packages (22.3.5)\n",
      "Requirement already satisfied: pandas in /opt/conda/lib/python3.11/site-packages (2.1.0)\n",
      "Requirement already satisfied: regex in /opt/conda/lib/python3.11/site-packages (2023.8.8)\n",
      "Requirement already satisfied: requests in /opt/conda/lib/python3.11/site-packages (2.31.0)\n",
      "Requirement already satisfied: setuptools in /opt/conda/lib/python3.11/site-packages (from pycountry) (68.2.2)\n",
      "Requirement already satisfied: numpy>=1.23.2 in /opt/conda/lib/python3.11/site-packages (from pandas) (1.24.4)\n",
      "Requirement already satisfied: python-dateutil>=2.8.2 in /opt/conda/lib/python3.11/site-packages (from pandas) (2.8.2)\n",
      "Requirement already satisfied: pytz>=2020.1 in /opt/conda/lib/python3.11/site-packages (from pandas) (2023.3.post1)\n",
      "Requirement already satisfied: tzdata>=2022.1 in /opt/conda/lib/python3.11/site-packages (from pandas) (2023.3)\n",
      "Requirement already satisfied: charset-normalizer<4,>=2 in /opt/conda/lib/python3.11/site-packages (from requests) (3.2.0)\n",
      "Requirement already satisfied: idna<4,>=2.5 in /opt/conda/lib/python3.11/site-packages (from requests) (3.4)\n",
      "Requirement already satisfied: urllib3<3,>=1.21.1 in /opt/conda/lib/python3.11/site-packages (from requests) (2.0.4)\n",
      "Requirement already satisfied: certifi>=2017.4.17 in /opt/conda/lib/python3.11/site-packages (from requests) (2023.7.22)\n",
      "Requirement already satisfied: six>=1.5 in /opt/conda/lib/python3.11/site-packages (from python-dateutil>=2.8.2->pandas) (1.16.0)\n",
      "Note: you may need to restart the kernel to use updated packages.\n"
     ]
    }
   ],
   "source": [
    "pip install pycountry pandas regex requests"
   ]
  },
  {
   "cell_type": "code",
   "execution_count": 132,
   "id": "fb3f3613-9fd6-4538-888e-b90d39bbd8e1",
   "metadata": {},
   "outputs": [
    {
     "name": "stdout",
     "output_type": "stream",
     "text": [
      "Empty DataFrame\n",
      "Columns: [Date, Temperature]\n",
      "Index: [] with text file: stations.txt\n",
      "stations.txt\n"
     ]
    },
    {
     "ename": "KeyboardInterrupt",
     "evalue": "",
     "output_type": "error",
     "traceback": [
      "\u001b[0;31m---------------------------------------------------------------------------\u001b[0m",
      "\u001b[0;31mKeyboardInterrupt\u001b[0m                         Traceback (most recent call last)",
      "Cell \u001b[0;32mIn[132], line 96\u001b[0m\n\u001b[1;32m     92\u001b[0m             \u001b[38;5;28mprint\u001b[39m(txtFile)\n\u001b[1;32m     93\u001b[0m \u001b[38;5;66;03m# temperatuur is in 0.1C, dus alles x 0.1 voordat het de database in geflikkerd wordt\u001b[39;00m\n\u001b[0;32m---> 96\u001b[0m \u001b[43mGenerateTemperatureMapping\u001b[49m\u001b[43m(\u001b[49m\u001b[38;5;124;43m'\u001b[39;49m\u001b[38;5;124;43mdata/temp/\u001b[39;49m\u001b[38;5;124;43m'\u001b[39;49m\u001b[43m)\u001b[49m\n",
      "Cell \u001b[0;32mIn[132], line 84\u001b[0m, in \u001b[0;36mGenerateTemperatureMapping\u001b[0;34m(folderPath)\u001b[0m\n\u001b[1;32m     82\u001b[0m         \u001b[38;5;28;01mcontinue\u001b[39;00m   \n\u001b[1;32m     83\u001b[0m     \u001b[38;5;66;03m# /10 omdat alle temperatuure in stappen van 0.1 graden celcius\u001b[39;00m\n\u001b[0;32m---> 84\u001b[0m     dateList\u001b[38;5;241m.\u001b[39mappend(\u001b[43mdatetime\u001b[49m\u001b[38;5;241;43m.\u001b[39;49m\u001b[43mstrptime\u001b[49m\u001b[43m(\u001b[49m\u001b[43mm\u001b[49m\u001b[38;5;241;43m.\u001b[39;49m\u001b[43mgroup\u001b[49m\u001b[43m(\u001b[49m\u001b[38;5;241;43m1\u001b[39;49m\u001b[43m)\u001b[49m\u001b[43m,\u001b[49m\u001b[43m \u001b[49m\u001b[38;5;124;43m\"\u001b[39;49m\u001b[38;5;124;43m%\u001b[39;49m\u001b[38;5;124;43mY\u001b[39;49m\u001b[38;5;124;43m%\u001b[39;49m\u001b[38;5;124;43mm\u001b[39;49m\u001b[38;5;132;43;01m%d\u001b[39;49;00m\u001b[38;5;124;43m\"\u001b[39;49m\u001b[43m)\u001b[49m\u001b[38;5;241m.\u001b[39mdate())\n\u001b[1;32m     85\u001b[0m     tempList\u001b[38;5;241m.\u001b[39mappend(\u001b[38;5;28mint\u001b[39m(m\u001b[38;5;241m.\u001b[39mgroup(\u001b[38;5;241m2\u001b[39m))\u001b[38;5;241m/\u001b[39m\u001b[38;5;241m10\u001b[39m)\n\u001b[1;32m     86\u001b[0m \u001b[38;5;28;01melse\u001b[39;00m:\n",
      "File \u001b[0;32m/opt/conda/lib/python3.11/_strptime.py:568\u001b[0m, in \u001b[0;36m_strptime_datetime\u001b[0;34m(cls, data_string, format)\u001b[0m\n\u001b[1;32m    565\u001b[0m \u001b[38;5;28;01mdef\u001b[39;00m \u001b[38;5;21m_strptime_datetime\u001b[39m(\u001b[38;5;28mcls\u001b[39m, data_string, \u001b[38;5;28mformat\u001b[39m\u001b[38;5;241m=\u001b[39m\u001b[38;5;124m\"\u001b[39m\u001b[38;5;132;01m%a\u001b[39;00m\u001b[38;5;124m \u001b[39m\u001b[38;5;124m%\u001b[39m\u001b[38;5;124mb \u001b[39m\u001b[38;5;132;01m%d\u001b[39;00m\u001b[38;5;124m \u001b[39m\u001b[38;5;124m%\u001b[39m\u001b[38;5;124mH:\u001b[39m\u001b[38;5;124m%\u001b[39m\u001b[38;5;124mM:\u001b[39m\u001b[38;5;124m%\u001b[39m\u001b[38;5;124mS \u001b[39m\u001b[38;5;124m%\u001b[39m\u001b[38;5;124mY\u001b[39m\u001b[38;5;124m\"\u001b[39m):\n\u001b[1;32m    566\u001b[0m \u001b[38;5;250m    \u001b[39m\u001b[38;5;124;03m\"\"\"Return a class cls instance based on the input string and the\u001b[39;00m\n\u001b[1;32m    567\u001b[0m \u001b[38;5;124;03m    format string.\"\"\"\u001b[39;00m\n\u001b[0;32m--> 568\u001b[0m     tt, fraction, gmtoff_fraction \u001b[38;5;241m=\u001b[39m \u001b[43m_strptime\u001b[49m\u001b[43m(\u001b[49m\u001b[43mdata_string\u001b[49m\u001b[43m,\u001b[49m\u001b[43m \u001b[49m\u001b[38;5;28;43mformat\u001b[39;49m\u001b[43m)\u001b[49m\n\u001b[1;32m    569\u001b[0m     tzname, gmtoff \u001b[38;5;241m=\u001b[39m tt[\u001b[38;5;241m-\u001b[39m\u001b[38;5;241m2\u001b[39m:]\n\u001b[1;32m    570\u001b[0m     args \u001b[38;5;241m=\u001b[39m tt[:\u001b[38;5;241m6\u001b[39m] \u001b[38;5;241m+\u001b[39m (fraction,)\n",
      "File \u001b[0;32m/opt/conda/lib/python3.11/_strptime.py:368\u001b[0m, in \u001b[0;36m_strptime\u001b[0;34m(data_string, format)\u001b[0m\n\u001b[1;32m    365\u001b[0m \u001b[38;5;66;03m# weekday and julian defaulted to None so as to signal need to calculate\u001b[39;00m\n\u001b[1;32m    366\u001b[0m \u001b[38;5;66;03m# values\u001b[39;00m\n\u001b[1;32m    367\u001b[0m weekday \u001b[38;5;241m=\u001b[39m julian \u001b[38;5;241m=\u001b[39m \u001b[38;5;28;01mNone\u001b[39;00m\n\u001b[0;32m--> 368\u001b[0m found_dict \u001b[38;5;241m=\u001b[39m found\u001b[38;5;241m.\u001b[39mgroupdict()\n\u001b[1;32m    369\u001b[0m \u001b[38;5;28;01mfor\u001b[39;00m group_key \u001b[38;5;129;01min\u001b[39;00m found_dict\u001b[38;5;241m.\u001b[39mkeys():\n\u001b[1;32m    370\u001b[0m     \u001b[38;5;66;03m# Directives not explicitly handled below:\u001b[39;00m\n\u001b[1;32m    371\u001b[0m     \u001b[38;5;66;03m#   c, x, X\u001b[39;00m\n\u001b[1;32m    372\u001b[0m     \u001b[38;5;66;03m#      handled by making out of other directives\u001b[39;00m\n\u001b[1;32m    373\u001b[0m     \u001b[38;5;66;03m#   U, W\u001b[39;00m\n\u001b[1;32m    374\u001b[0m     \u001b[38;5;66;03m#      worthless without day of the week\u001b[39;00m\n\u001b[1;32m    375\u001b[0m     \u001b[38;5;28;01mif\u001b[39;00m group_key \u001b[38;5;241m==\u001b[39m \u001b[38;5;124m'\u001b[39m\u001b[38;5;124my\u001b[39m\u001b[38;5;124m'\u001b[39m:\n",
      "\u001b[0;31mKeyboardInterrupt\u001b[0m: "
     ]
    }
   ],
   "source": [
    "import requests\n",
    "import zipfile\n",
    "import os\n",
    "import pycountry\n",
    "import pandas as pd\n",
    "import regex as re\n",
    "from datetime import datetime\n",
    "\n",
    "#The \"download the temperature data\" function\n",
    "def DownloadFile(url, writeLocation):\n",
    "    if requests.get(url).status_code == 200:\n",
    "        with open(writeLocation, 'wb') as file:\n",
    "            file.write(requests.get(url).content)\n",
    "        return file\n",
    "    else:\n",
    "        return f\"exited with {requests.get(url).status_code} as error\"\n",
    "\n",
    "def ExtractZip(zipFile, extractPath):\n",
    "    try:\n",
    "        with zipfile.ZipFile(zipFile, 'r') as zip_ref:\n",
    "            zip_ref.extractall(extractPath)\n",
    "        return extractPath\n",
    "    except Exception as e:\n",
    "        return f\"Error: {e}\"\n",
    "\n",
    "def DownloadExtract(url, path):\n",
    "    ExtractZip(DownloadFile(url, path), path)\n",
    "    \n",
    "\n",
    "def GenerateTemperatureMapping(folderPath):\n",
    "    list = []\n",
    "    STAIDCountry = {}\n",
    "    reg = r\"[\\s]*(\\d+),([\\w\\W\\s]*),([a-zA-Z]{2})\"\n",
    "    EUList = ['BE', 'BG', 'CZ', 'DK', 'DE', 'EE', 'IE', 'EL', 'ES', 'FR', 'HR', 'IT', 'CY', 'LV', 'LT', 'LU', 'HU', 'MT', 'NL', 'AT', 'PL', 'PT', 'RO', 'SI', 'SK', 'FI', 'SE', 'GR']\n",
    "    tempList = []\n",
    "    dateList = []\n",
    "    start = False\n",
    "    \n",
    "    #Lees het Satations.txt bestand,dit heeft de index van .txt bestanden->landen\n",
    "    with open(folderPath + 'stations.txt') as f:\n",
    "        lines = f.readlines()\n",
    "        lines = lines[17:]\n",
    "        f.close()\n",
    "    \n",
    "    #Genereer de dictionary die ID : land bijhoudt\n",
    "    #TODO: Dictionary [land] : [lijst aan IDs] als STAIDCountry?\n",
    "    for line in lines:\n",
    "        m = re.match(reg, line)\n",
    "        if m:\n",
    "            if m.group(3) not in list:\n",
    "                list.append(m.group(3))\n",
    "            country = pycountry.countries.get(alpha_2=m.group(3)).name\n",
    "            id = str(m.group(1)).zfill(5)\n",
    "            STAIDCountry[id] = country\n",
    "            \n",
    "    # Voor elk .txt bestand, match de ID (gelezen door regex) met de key in de dictionary, en hernoem het bestand, zo genereert het LAND[ID].txt files \n",
    "    for file in os.listdir(folderPath):\n",
    "        reg = r\"TG_STAID0(\\d*)\"\n",
    "        match = re.match(reg, file)\n",
    "        if not match:\n",
    "            continue\n",
    "        id = match.group(1)\n",
    "        newName = STAIDCountry[id] + id + '.txt'\n",
    "        os.rename(os.path.join(folderPath, file), os.path.join(folderPath, newName))\n",
    "\n",
    "    \n",
    "    for txtFile in os.listdir(folderPath):\n",
    "        tempList = []\n",
    "        dateList = []\n",
    "        start = False\n",
    "        temp = []\n",
    "        \n",
    "        with open(folderPath + txtFile) as f:\n",
    "            lines = f.readlines()\n",
    "            f.close()\n",
    "            \n",
    "        for line in lines:\n",
    "            reg = r\"[\\d]+,\\s*\\d+,(\\d{8}),\\s*([-\\d]+),\\s+(\\d)\"\n",
    "            m = re.match(reg, line.strip())\n",
    "            if m:\n",
    "                if m.group(3) != \"0\" and m.group(3) != \"1\":\n",
    "                    continue   \n",
    "                # /10 omdat alle temperatuure in stappen van 0.1 graden celcius\n",
    "                dateList.append(datetime.strptime(m.group(1), \"%Y%m%d\").date())\n",
    "                tempList.append(int(m.group(2))/10)\n",
    "            else:\n",
    "                temp.append(line)\n",
    "                \n",
    "        df = pd.DataFrame({'Date': dateList, 'Temperature' : tempList})\n",
    "        if df.empty:\n",
    "            print(df.head(), \"with text file:\", txtFile)\n",
    "            print(txtFile)\n",
    "# temperatuur is in 0.1C, dus alles x 0.1 voordat het de database in geflikkerd wordt\n",
    "\n",
    "\n",
    "GenerateTemperatureMapping('data/temp/')"
   ]
  },
  {
   "cell_type": "code",
   "execution_count": 99,
   "id": "1267d2d4-710c-443d-a525-1d893d3031ce",
   "metadata": {},
   "outputs": [
    {
     "name": "stdout",
     "output_type": "stream",
     "text": [
      "         Date  Temperature\n",
      "0  1855-02-01         -6.3\n",
      "1  1855-02-02         -8.0\n",
      "2  1855-02-03        -12.9\n",
      "3  1855-02-04         -8.9\n",
      "4  1855-02-05         -4.4\n"
     ]
    }
   ],
   "source": [
    "import regex as re\n",
    "import pandas as pd\n",
    "\n",
    "def GenerateTemperatureMapping(filePath):\n",
    "    tempList = []\n",
    "    dateList = []\n",
    "    start = False\n",
    "\n",
    "    with open(filePath) as f:\n",
    "        lines = f.readlines()\n",
    "        f.close()\n",
    "    return lines\n",
    "    for line in GenerateTemperatureMapping(\"data/Austria00016.txt\"):\n",
    "        reg = r\"[\\d]+,\\d+,(\\d{8}),\\s*([-\\d]+),\\s+(\\d)\"\n",
    "        m = re.match(reg, line.strip())\n",
    "        if m:\n",
    "            if m.group(3) != \"0\":\n",
    "                continue   \n",
    "            # /10 omdat alle temperatuure in stappen van 0.1 graden celcius\n",
    "            dateList.append(datetime.strptime(m.group(1), \"%Y%m%d\").date())\n",
    "            tempList.append(int(m.group(2))/10)\n",
    "            \n",
    "    df = pd.DataFrame({'Date': dateList, 'Temperature' : tempList})\n",
    "    print(df.head())\n",
    "\n"
   ]
  }
 ],
 "metadata": {
  "kernelspec": {
   "display_name": "Python 3 (ipykernel)",
   "language": "python",
   "name": "python3"
  },
  "language_info": {
   "codemirror_mode": {
    "name": "ipython",
    "version": 3
   },
   "file_extension": ".py",
   "mimetype": "text/x-python",
   "name": "python",
   "nbconvert_exporter": "python",
   "pygments_lexer": "ipython3",
   "version": "3.11.5"
  }
 },
 "nbformat": 4,
 "nbformat_minor": 5
}
