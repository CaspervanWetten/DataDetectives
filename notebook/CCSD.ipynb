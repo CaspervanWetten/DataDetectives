{
 "cells": [
  {
   "cell_type": "code",
   "execution_count": 16,
   "id": "e24f5e1f-0457-4afa-8ef1-239b6a9c3ebd",
   "metadata": {},
   "outputs": [
    {
     "name": "stdout",
     "output_type": "stream",
     "text": [
      "Requirement already satisfied: cdsapi in /opt/conda/lib/python3.11/site-packages (0.6.1)\n",
      "Requirement already satisfied: netCDF4 in /opt/conda/lib/python3.11/site-packages (1.6.4)\n",
      "Requirement already satisfied: xarray in /opt/conda/lib/python3.11/site-packages (2023.9.0)\n",
      "Collecting geopy\n",
      "  Obtaining dependency information for geopy from https://files.pythonhosted.org/packages/e1/58/9289c6a03116025cdb61461d99b2493daa4967a80b13755463d71a0affeb/geopy-2.4.0-py3-none-any.whl.metadata\n",
      "  Downloading geopy-2.4.0-py3-none-any.whl.metadata (6.8 kB)\n",
      "Requirement already satisfied: requests>=2.5.0 in /opt/conda/lib/python3.11/site-packages (from cdsapi) (2.31.0)\n",
      "Requirement already satisfied: tqdm in /opt/conda/lib/python3.11/site-packages (from cdsapi) (4.66.1)\n",
      "Requirement already satisfied: cftime in /opt/conda/lib/python3.11/site-packages (from netCDF4) (1.6.2)\n",
      "Requirement already satisfied: certifi in /opt/conda/lib/python3.11/site-packages (from netCDF4) (2023.7.22)\n",
      "Requirement already satisfied: numpy in /opt/conda/lib/python3.11/site-packages (from netCDF4) (1.24.4)\n",
      "Requirement already satisfied: packaging>=21.3 in /opt/conda/lib/python3.11/site-packages (from xarray) (23.1)\n",
      "Requirement already satisfied: pandas>=1.4 in /opt/conda/lib/python3.11/site-packages (from xarray) (2.1.0)\n",
      "Collecting geographiclib<3,>=1.52 (from geopy)\n",
      "  Downloading geographiclib-2.0-py3-none-any.whl (40 kB)\n",
      "\u001b[2K     \u001b[90m━━━━━━━━━━━━━━━━━━━━━━━━━━━━━━━━━━━━━━━━\u001b[0m \u001b[32m40.3/40.3 kB\u001b[0m \u001b[31m1.9 MB/s\u001b[0m eta \u001b[36m0:00:00\u001b[0m\n",
      "\u001b[?25hRequirement already satisfied: python-dateutil>=2.8.2 in /opt/conda/lib/python3.11/site-packages (from pandas>=1.4->xarray) (2.8.2)\n",
      "Requirement already satisfied: pytz>=2020.1 in /opt/conda/lib/python3.11/site-packages (from pandas>=1.4->xarray) (2023.3.post1)\n",
      "Requirement already satisfied: tzdata>=2022.1 in /opt/conda/lib/python3.11/site-packages (from pandas>=1.4->xarray) (2023.3)\n",
      "Requirement already satisfied: charset-normalizer<4,>=2 in /opt/conda/lib/python3.11/site-packages (from requests>=2.5.0->cdsapi) (3.2.0)\n",
      "Requirement already satisfied: idna<4,>=2.5 in /opt/conda/lib/python3.11/site-packages (from requests>=2.5.0->cdsapi) (3.4)\n",
      "Requirement already satisfied: urllib3<3,>=1.21.1 in /opt/conda/lib/python3.11/site-packages (from requests>=2.5.0->cdsapi) (2.0.4)\n",
      "Requirement already satisfied: six>=1.5 in /opt/conda/lib/python3.11/site-packages (from python-dateutil>=2.8.2->pandas>=1.4->xarray) (1.16.0)\n",
      "Downloading geopy-2.4.0-py3-none-any.whl (125 kB)\n",
      "\u001b[2K   \u001b[90m━━━━━━━━━━━━━━━━━━━━━━━━━━━━━━━━━━━━━━━━\u001b[0m \u001b[32m125.4/125.4 kB\u001b[0m \u001b[31m1.4 MB/s\u001b[0m eta \u001b[36m0:00:00\u001b[0ma \u001b[36m0:00:01\u001b[0m\n",
      "\u001b[?25hInstalling collected packages: geographiclib, geopy\n",
      "Successfully installed geographiclib-2.0 geopy-2.4.0\n",
      "Note: you may need to restart the kernel to use updated packages.\n"
     ]
    }
   ],
   "source": [
    "pip install netCDF4 xarray geopy"
   ]
  },
  {
   "cell_type": "code",
   "execution_count": 44,
   "id": "88d60cc5-729f-40c3-aef9-73cd121f2fc4",
   "metadata": {},
   "outputs": [
    {
     "name": "stdout",
     "output_type": "stream",
     "text": [
      "file has been written!\n"
     ]
    }
   ],
   "source": [
    "import requests\n",
    "\n",
    "url = \"https://knmi-ecad-assets-prd.s3.amazonaws.com/download/ECA_blend_tg.zip\"\n",
    "\n",
    "if requests.get(url).status_code == 200:\n",
    "    with open('data/temp.zip', 'wb') as file:\n",
    "        file.write(requests.get(url).content)\n",
    "    print(\"file has been written!\")\n"
   ]
  },
  {
   "cell_type": "code",
   "execution_count": 17,
   "id": "e7b92a41-40ed-45eb-8eca-d6a78374f837",
   "metadata": {},
   "outputs": [],
   "source": [
    "from geopy.geocoders import Nominatim\n",
    "\n",
    "def get_country_from_coordinates(latitude, longitude):\n",
    "    # Initialize the geocoder\n",
    "    geolocator = Nominatim(user_agent=\"geoapiExercises\")\n",
    "\n",
    "    # Use reverse geocoding to get location information\n",
    "    location = geolocator.reverse((latitude, longitude), exactly_one=True)\n",
    "\n",
    "    # Extract the country from the location information\n",
    "    country = location.raw.get(\"address\", {}).get(\"country\")\n",
    "\n",
    "    return country"
   ]
  },
  {
   "cell_type": "code",
   "execution_count": 45,
   "id": "9efa9d2e-1084-4662-a073-4cd96ef7b3b5",
   "metadata": {},
   "outputs": [
    {
     "name": "stdout",
     "output_type": "stream",
     "text": [
      "File 'data/temp.zip' has been successfully extracted to 'data/temp/'.\n"
     ]
    }
   ],
   "source": [
    "import zipfile\n",
    "\n",
    "def unzip_file(zip_file_path, extract_to_folder):\n",
    "    try:\n",
    "        with zipfile.ZipFile(zip_file_path, 'r') as zip_ref:\n",
    "            zip_ref.extractall(extract_to_folder)\n",
    "        print(f\"File '{zip_file_path}' has been successfully extracted to '{extract_to_folder}'.\")\n",
    "    except Exception as e:\n",
    "        print(f\"Error: {e}\")\n",
    "\n",
    "# Example usage:\n",
    "zip_file_path = 'data/temp.zip'  # Replace with the actual path to your ZIP file\n",
    "extract_to_folder = 'data/temp/'         # Replace with the folder where you want to extract the contents\n",
    "\n",
    "unzip_file(zip_file_path, extract_to_folder)\n"
   ]
  },
  {
   "cell_type": "code",
   "execution_count": 47,
   "id": "70a160ff-2f78-4c6f-bc85-89917bb026dd",
   "metadata": {},
   "outputs": [
    {
     "name": "stdout",
     "output_type": "stream",
     "text": [
      "7082\n"
     ]
    }
   ],
   "source": [
    "import os\n",
    "\n",
    "file_list = []\n",
    "for file in os.listdir('data/temp'):\n",
    "    file_list.append(file)\n",
    "\n",
    "print(len(file_list))"
   ]
  }
 ],
 "metadata": {
  "kernelspec": {
   "display_name": "Python 3 (ipykernel)",
   "language": "python",
   "name": "python3"
  },
  "language_info": {
   "codemirror_mode": {
    "name": "ipython",
    "version": 3
   },
   "file_extension": ".py",
   "mimetype": "text/x-python",
   "name": "python",
   "nbconvert_exporter": "python",
   "pygments_lexer": "ipython3",
   "version": "3.11.5"
  }
 },
 "nbformat": 4,
 "nbformat_minor": 5
}
