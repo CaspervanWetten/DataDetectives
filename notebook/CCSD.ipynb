{
 "cells": [
  {
   "cell_type": "code",
   "execution_count": 1,
   "id": "e24f5e1f-0457-4afa-8ef1-239b6a9c3ebd",
   "metadata": {},
   "outputs": [
    {
     "name": "stdout",
     "output_type": "stream",
     "text": [
      "Collecting cdsapi\n",
      "  Downloading cdsapi-0.6.1.tar.gz (13 kB)\n",
      "  Preparing metadata (setup.py) ... \u001b[?25ldone\n",
      "\u001b[?25hRequirement already satisfied: requests>=2.5.0 in /opt/conda/lib/python3.11/site-packages (from cdsapi) (2.31.0)\n",
      "Requirement already satisfied: tqdm in /opt/conda/lib/python3.11/site-packages (from cdsapi) (4.66.1)\n",
      "Requirement already satisfied: charset-normalizer<4,>=2 in /opt/conda/lib/python3.11/site-packages (from requests>=2.5.0->cdsapi) (3.2.0)\n",
      "Requirement already satisfied: idna<4,>=2.5 in /opt/conda/lib/python3.11/site-packages (from requests>=2.5.0->cdsapi) (3.4)\n",
      "Requirement already satisfied: urllib3<3,>=1.21.1 in /opt/conda/lib/python3.11/site-packages (from requests>=2.5.0->cdsapi) (2.0.4)\n",
      "Requirement already satisfied: certifi>=2017.4.17 in /opt/conda/lib/python3.11/site-packages (from requests>=2.5.0->cdsapi) (2023.7.22)\n",
      "Building wheels for collected packages: cdsapi\n",
      "  Building wheel for cdsapi (setup.py) ... \u001b[?25ldone\n",
      "\u001b[?25h  Created wheel for cdsapi: filename=cdsapi-0.6.1-py2.py3-none-any.whl size=12008 sha256=5da9a5fe46793a9fd01db2124e225379c1f23956bb74f1a03c6d05dbdd4f97d4\n",
      "  Stored in directory: /home/infomdss/.cache/pip/wheels/f9/26/57/a49a681496dea59363312ae87ffa8397100f8e8f6bab3591ea\n",
      "Successfully built cdsapi\n",
      "Installing collected packages: cdsapi\n",
      "Successfully installed cdsapi-0.6.1\n",
      "Note: you may need to restart the kernel to use updated packages.\n"
     ]
    }
   ],
   "source": [
    "pip install cdsapi"
   ]
  },
  {
   "cell_type": "code",
   "execution_count": 5,
   "id": "88d60cc5-729f-40c3-aef9-73cd121f2fc4",
   "metadata": {},
   "outputs": [
    {
     "name": "stderr",
     "output_type": "stream",
     "text": [
      "2023-10-02 12:58:20,045 INFO Welcome to the CDS\n",
      "2023-10-02 12:58:20,045 INFO Sending request to https://cds.climate.copernicus.eu/api/v2/resources/sis-temperature-statistics\n",
      "2023-10-02 12:58:20,252 INFO Request is completed\n",
      "2023-10-02 12:58:20,253 INFO Downloading https://download-0007-clone.copernicus-climate.eu/cache-compute-0007/cache/data3/dataset-sis-temperature-statistics-9bbcd136-11de-44f1-a449-cb4217885d92.zip to download.zip (40M)\n",
      "2023-10-02 12:58:35,659 INFO Download rate 2.6M/s   \n"
     ]
    },
    {
     "data": {
      "text/plain": [
       "Result(content_length=41909241,content_type=application/zip,location=https://download-0007-clone.copernicus-climate.eu/cache-compute-0007/cache/data3/dataset-sis-temperature-statistics-9bbcd136-11de-44f1-a449-cb4217885d92.zip)"
      ]
     },
     "execution_count": 5,
     "metadata": {},
     "output_type": "execute_result"
    }
   ],
   "source": [
    "import cdsapi\n",
    "\n",
    "c = cdsapi.Client(url = \"https://cds.climate.copernicus.eu/api/v2\", key = \"255794:bedde892-0558-4ee4-b915-54e0fb7d698c\")\n",
    "\n",
    "c.retrieve(\n",
    "    'sis-temperature-statistics',\n",
    "    {\n",
    "        'format': 'zip',\n",
    "        'variable': 'average_temperature',\n",
    "        'period': 'year',\n",
    "        'statistic': 'time_average',\n",
    "        'experiment': 'rcp4_5',\n",
    "        'ensemble_statistic': 'ensemble_members_average',\n",
    "    },\n",
    "    'download.zip')"
   ]
  }
 ],
 "metadata": {
  "kernelspec": {
   "display_name": "Python 3 (ipykernel)",
   "language": "python",
   "name": "python3"
  },
  "language_info": {
   "codemirror_mode": {
    "name": "ipython",
    "version": 3
   },
   "file_extension": ".py",
   "mimetype": "text/x-python",
   "name": "python",
   "nbconvert_exporter": "python",
   "pygments_lexer": "ipython3",
   "version": "3.11.5"
  }
 },
 "nbformat": 4,
 "nbformat_minor": 5
}
