{
 "cells": [
  {
   "cell_type": "code",
   "execution_count": null,
   "id": "e24f5e1f-0457-4afa-8ef1-239b6a9c3ebd",
   "metadata": {},
   "outputs": [],
   "source": [
    "pip install netCDF4 xarray geopy regex pycountry"
   ]
  },
  {
   "cell_type": "code",
   "execution_count": 114,
   "id": "795bdb61-c9a7-499f-988a-0fda9ac6bfc9",
   "metadata": {},
   "outputs": [
    {
     "name": "stderr",
     "output_type": "stream",
     "text": [
      "\n",
      "KeyboardInterrupt\n",
      "\n"
     ]
    }
   ],
   "source": [
    "import requests\n",
    "import zipfile\n",
    "import os\n",
    "import pycountry\n",
    "import pandas as pd\n",
    "import regex as re\n",
    "\n",
    "#The \"download the temperature data\" function\n",
    "def DownloadFile(url, writeLocation):\n",
    "    if requests.get(url).status_code == 200:\n",
    "        with open(writeLocation, 'wb') as file:\n",
    "            file.write(requests.get(url).content)\n",
    "        return True\n",
    "    else:\n",
    "        return f\"exited with {requests.get(url).status_code} as error\"\n",
    "\n",
    "def ExtractZip(zipFile, extractPath):\n",
    "    try:\n",
    "        with zipfile.ZipFile(zipFile, 'r') as zip_ref:\n",
    "            zip_ref.extractall(extractPath)\n",
    "        return extractPath\n",
    "    except Exception as e:\n",
    "        return f\"Error: {e}\"\n",
    "\n",
    "def GenerateTemperatureMapping(stationsFile):\n",
    "    STAIDCountry = {}\n",
    "    reg = r\"[\\s]*(\\d+),([\\w\\W\\s]*),([a-zA-Z]{2})\"\n",
    "    EUList = ['BE', 'BG', 'CZ', 'DK', 'DE', 'EE', 'IE', 'EL', 'ES', 'FR', 'HR', 'IT', 'CY', 'LV', 'LT', 'LU', 'HU', 'MT', 'NL', 'AT', 'PL', 'PT', 'RO', 'SI', 'SK', 'FI', 'SE']\n",
    "    with open(stationsFile) as f:\n",
    "        lines = f.readlines()\n",
    "        lines = lines[17:]\n",
    "        f.close()\n",
    "    for line in lines:\n",
    "        m = re.match(reg, line)\n",
    "        if m and m.group(3) in EUList:\n",
    "            STAIDCountry[m.group(1)] = pycountry.countries.get(alpha_2=m.group(3)).name\n",
    "\n",
    "    return STAIDCountry\n",
    "\n",
    "tempLocatie = 'data/temp'\n",
    "if DownloadFile(\"https://knmi-ecad-assets-prd.s3.amazonaws.com/download/ECA_blend_tg.zip\", tempLocatie+'.zip'):\n",
    "    ExtractZip(tempLocatie+'.zip', tempLocatie)\n",
    "\n",
    "GenerateTemperatureMapping(tempLocatie+'/stations.txt')\n",
    "    \n",
    "\n",
    "\n"
   ]
  },
  {
   "cell_type": "code",
   "execution_count": null,
   "id": "88d60cc5-729f-40c3-aef9-73cd121f2fc4",
   "metadata": {},
   "outputs": [],
   "source": [
    "\n",
    "\n"
   ]
  },
  {
   "cell_type": "code",
   "execution_count": null,
   "id": "e7b92a41-40ed-45eb-8eca-d6a78374f837",
   "metadata": {},
   "outputs": [],
   "source": [
    "from geopy.geocoders import Nominatim\n",
    "\n",
    "def get_country_from_coordinates(latitude, longitude):\n",
    "    geolocator = Nominatim(user_agent=\"geoapiExercises\")\n",
    "    location = geolocator.reverse((latitude, longitude), exactly_one=True)\n",
    "    country = location.raw.get(\"address\", {}).get(\"country\")\n",
    "\n",
    "    return country"
   ]
  },
  {
   "cell_type": "code",
   "execution_count": null,
   "id": "9efa9d2e-1084-4662-a073-4cd96ef7b3b5",
   "metadata": {},
   "outputs": [],
   "source": [
    "import zipfile\n",
    "\n",
    "def unzip_file(zip_file_path, extract_to_folder):\n",
    "    try:\n",
    "        with zipfile.ZipFile(zip_file_path, 'r') as zip_ref:\n",
    "            zip_ref.extractall(extract_to_folder)\n",
    "        print(f\"File '{zip_file_path}' has been successfully extracted to '{extract_to_folder}'.\")\n",
    "    except Exception as e:\n",
    "        print(f\"Error: {e}\")\n",
    "\n",
    "# Example usage:\n",
    "zip_file_path = 'data/temp.zip'  # Replace with the actual path to your ZIP file\n",
    "extract_to_folder = 'data/temp/'         # Replace with the folder where you want to extract the contents\n",
    "\n",
    "unzip_file(zip_file_path, extract_to_folder)\n"
   ]
  },
  {
   "cell_type": "code",
   "execution_count": null,
   "id": "3cf6ef93-189d-498b-b5a9-a91bc33d90e6",
   "metadata": {},
   "outputs": [],
   "source": [
    "import pycountry\n",
    "def get_country_name(iso_code):\n",
    "    try:\n",
    "        country = pycountry.countries.get(alpha_2=iso_code).name\n",
    "        if country:\n",
    "            return country.name\n",
    "        else:\n",
    "            return \"Country not found\"\n",
    "    except AttributeError:\n",
    "        return \"Invalid ISO code format\""
   ]
  },
  {
   "cell_type": "code",
   "execution_count": null,
   "id": "70a160ff-2f78-4c6f-bc85-89917bb026dd",
   "metadata": {},
   "outputs": [],
   "source": [
    "import os\n",
    "import pycountry\n",
    "import pandas as pd\n",
    "import regex as re\n",
    "file = 'data/temp/stations.txt'\n",
    "\n",
    "STAIDCountry = {}\n",
    "reg = r\"[\\s]*(\\d+),([\\w\\W\\s]*),([a-zA-Z]{2})\"\n",
    "EUList = ['BE', 'BG', 'CZ', 'DK', 'DE', 'EE', 'IE', 'EL', 'ES', 'FR', 'HR', 'IT', 'CY', 'LV', 'LT', 'LU', 'HU', 'MT', 'NL', 'AT', 'PL', 'PT', 'RO', 'SI', 'SK', 'FI', 'SE']\n",
    "\n",
    "with open(file) as f:\n",
    "    lines = f.readlines()\n",
    "    lines = lines[17:]\n",
    "    f.close()\n",
    "\n",
    "used_list = ()\n",
    "for line in lines:\n",
    "    m = re.match(reg, line)\n",
    "    if m and m.group(3) in EUList:\n",
    "        STAIDCountry[m.group(1)] = get_country_name(m.group(3))"
   ]
  },
  {
   "cell_type": "code",
   "execution_count": null,
   "id": "82709b15-41fc-471e-b310-2aae58cb5594",
   "metadata": {},
   "outputs": [],
   "source": []
  }
 ],
 "metadata": {
  "kernelspec": {
   "display_name": "Python 3 (ipykernel)",
   "language": "python",
   "name": "python3"
  },
  "language_info": {
   "codemirror_mode": {
    "name": "ipython",
    "version": 3
   },
   "file_extension": ".py",
   "mimetype": "text/x-python",
   "name": "python",
   "nbconvert_exporter": "python",
   "pygments_lexer": "ipython3",
   "version": "3.11.5"
  }
 },
 "nbformat": 4,
 "nbformat_minor": 5
}
