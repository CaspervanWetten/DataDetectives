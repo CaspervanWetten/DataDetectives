{
 "cells": [
  {
   "cell_type": "code",
   "execution_count": null,
   "id": "fb3f3613-9fd6-4538-888e-b90d39bbd8e1",
   "metadata": {},
   "outputs": [],
   "source": [
    "import requests\n",
    "import zipfile\n",
    "import os\n",
    "import pycountry\n",
    "import pandas as pd\n",
    "import regex as re\n",
    "\n",
    "#The \"download the temperature data\" function\n",
    "def DownloadFile(url, writeLocation):\n",
    "    if requests.get(url).status_code == 200:\n",
    "        with open(writeLocation, 'wb') as file:\n",
    "            file.write(requests.get(url).content)\n",
    "        return True\n",
    "    else:\n",
    "        return f\"exited with {requests.get(url).status_code} as error\"\n",
    "\n",
    "def ExtractZip(zipFile, extractPath):\n",
    "    try:\n",
    "        with zipfile.ZipFile(zipFile, 'r') as zip_ref:\n",
    "            zip_ref.extractall(extractPath)\n",
    "        return extractPath\n",
    "    except Exception as e:\n",
    "        return f\"Error: {e}\"\n",
    "\n",
    "def GenerateTemperatureMapping(stationsFile):\n",
    "    STAIDCountry = {}\n",
    "    reg = r\"[\\s]*(\\d+),([\\w\\W\\s]*),([a-zA-Z]{2})\"\n",
    "    EUList = ['BE', 'BG', 'CZ', 'DK', 'DE', 'EE', 'IE', 'EL', 'ES', 'FR', 'HR', 'IT', 'CY', 'LV', 'LT', 'LU', 'HU', 'MT', 'NL', 'AT', 'PL', 'PT', 'RO', 'SI', 'SK', 'FI', 'SE']\n",
    "    with open(stationsFile) as f:\n",
    "        lines = f.readlines()\n",
    "        lines = lines[17:]\n",
    "        f.close()\n",
    "    for line in lines:\n",
    "        m = re.match(reg, line)\n",
    "        if m and m.group(3) in EUList:\n",
    "            STAIDCountry[m.group(1)] = pycountry.countries.get(alpha_2=m.group(3)).name\n",
    "\n",
    "    return STAIDCountry\n",
    "\n",
    "tempLocatie = 'data/temp'\n",
    "# if DownloadFile(\"https://knmi-ecad-assets-prd.s3.amazonaws.com/download/ECA_blend_tg.zip\", tempLocatie+'.zip'):\n",
    "#     ExtractZip(tempLocatie+'.zip', tempLocatie)\n",
    "\n",
    "GenerateTemperatureMapping(tempLocatie+'/stations.txt')\n",
    "    \n",
    "\n",
    "\n"
   ]
  }
 ],
 "metadata": {
  "kernelspec": {
   "display_name": "Python 3 (ipykernel)",
   "language": "python",
   "name": "python3"
  },
  "language_info": {
   "codemirror_mode": {
    "name": "ipython",
    "version": 3
   },
   "file_extension": ".py",
   "mimetype": "text/x-python",
   "name": "python",
   "nbconvert_exporter": "python",
   "pygments_lexer": "ipython3",
   "version": "3.11.5"
  }
 },
 "nbformat": 4,
 "nbformat_minor": 5
}
