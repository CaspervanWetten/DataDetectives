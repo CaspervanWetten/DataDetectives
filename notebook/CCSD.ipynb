{
 "cells": [
  {
   "cell_type": "code",
   "execution_count": 37,
   "id": "e24f5e1f-0457-4afa-8ef1-239b6a9c3ebd",
   "metadata": {},
   "outputs": [
    {
     "name": "stdout",
     "output_type": "stream",
     "text": [
      "Requirement already satisfied: cdsapi in /opt/conda/lib/python3.11/site-packages (0.6.1)\n",
      "Collecting netCDF4\n",
      "  Obtaining dependency information for netCDF4 from https://files.pythonhosted.org/packages/56/9d/f9e7608e4fa3cafeb215217733ef08d770bcc0b0f70b4f3ad574113df4cf/netCDF4-1.6.4-cp311-cp311-manylinux_2_17_x86_64.manylinux2014_x86_64.whl.metadata\n",
      "  Downloading netCDF4-1.6.4-cp311-cp311-manylinux_2_17_x86_64.manylinux2014_x86_64.whl.metadata (1.6 kB)\n",
      "Requirement already satisfied: requests>=2.5.0 in /opt/conda/lib/python3.11/site-packages (from cdsapi) (2.31.0)\n",
      "Requirement already satisfied: tqdm in /opt/conda/lib/python3.11/site-packages (from cdsapi) (4.66.1)\n",
      "Collecting cftime (from netCDF4)\n",
      "  Downloading cftime-1.6.2-cp311-cp311-manylinux_2_17_x86_64.manylinux2014_x86_64.whl (1.3 MB)\n",
      "\u001b[2K     \u001b[90m━━━━━━━━━━━━━━━━━━━━━━━━━━━━━━━━━━━━━━━━\u001b[0m \u001b[32m1.3/1.3 MB\u001b[0m \u001b[31m16.9 MB/s\u001b[0m eta \u001b[36m0:00:00\u001b[0m00:01\u001b[0m00:01\u001b[0m\n",
      "\u001b[?25hRequirement already satisfied: certifi in /opt/conda/lib/python3.11/site-packages (from netCDF4) (2023.7.22)\n",
      "Requirement already satisfied: numpy in /opt/conda/lib/python3.11/site-packages (from netCDF4) (1.24.4)\n",
      "Requirement already satisfied: charset-normalizer<4,>=2 in /opt/conda/lib/python3.11/site-packages (from requests>=2.5.0->cdsapi) (3.2.0)\n",
      "Requirement already satisfied: idna<4,>=2.5 in /opt/conda/lib/python3.11/site-packages (from requests>=2.5.0->cdsapi) (3.4)\n",
      "Requirement already satisfied: urllib3<3,>=1.21.1 in /opt/conda/lib/python3.11/site-packages (from requests>=2.5.0->cdsapi) (2.0.4)\n",
      "Downloading netCDF4-1.6.4-cp311-cp311-manylinux_2_17_x86_64.manylinux2014_x86_64.whl (5.4 MB)\n",
      "\u001b[2K   \u001b[90m━━━━━━━━━━━━━━━━━━━━━━━━━━━━━━━━━━━━━━━━\u001b[0m \u001b[32m5.4/5.4 MB\u001b[0m \u001b[31m18.5 MB/s\u001b[0m eta \u001b[36m0:00:00\u001b[0m00:01\u001b[0m00:01\u001b[0m\n",
      "\u001b[?25hInstalling collected packages: cftime, netCDF4\n",
      "Successfully installed cftime-1.6.2 netCDF4-1.6.4\n",
      "Note: you may need to restart the kernel to use updated packages.\n"
     ]
    }
   ],
   "source": [
    "pip install cdsapi netCDF4"
   ]
  },
  {
   "cell_type": "code",
   "execution_count": 6,
   "id": "88d60cc5-729f-40c3-aef9-73cd121f2fc4",
   "metadata": {},
   "outputs": [
    {
     "name": "stderr",
     "output_type": "stream",
     "text": [
      "2023-10-02 13:11:00,829 INFO Welcome to the CDS\n",
      "2023-10-02 13:11:00,831 INFO Sending request to https://cds.climate.copernicus.eu/api/v2/resources/sis-temperature-statistics\n",
      "2023-10-02 13:11:00,958 INFO Request is completed\n",
      "2023-10-02 13:11:00,959 INFO Downloading https://download-0007-clone.copernicus-climate.eu/cache-compute-0007/cache/data3/dataset-sis-temperature-statistics-9bbcd136-11de-44f1-a449-cb4217885d92.zip to data/download.zip (40M)\n",
      "2023-10-02 13:11:06,114 INFO Download rate 7.8M/s   \n"
     ]
    },
    {
     "data": {
      "text/plain": [
       "Result(content_length=41909241,content_type=application/zip,location=https://download-0007-clone.copernicus-climate.eu/cache-compute-0007/cache/data3/dataset-sis-temperature-statistics-9bbcd136-11de-44f1-a449-cb4217885d92.zip)"
      ]
     },
     "execution_count": 6,
     "metadata": {},
     "output_type": "execute_result"
    }
   ],
   "source": [
    "import cdsapi\n",
    "\n",
    "c = cdsapi.Client(url = \"https://cds.climate.copernicus.eu/api/v2\", key = \"255794:bedde892-0558-4ee4-b915-54e0fb7d698c\")\n",
    "\n",
    "c.retrieve(\n",
    "    'sis-temperature-statistics',\n",
    "    {\n",
    "        'format': 'zip',\n",
    "        'variable': 'average_temperature',\n",
    "        'period': 'year',\n",
    "        'statistic': 'time_average',\n",
    "        'experiment': 'rcp4_5',\n",
    "        'ensemble_statistic': 'ensemble_members_average',\n",
    "    },\n",
    "    'data/download.zip')"
   ]
  },
  {
   "cell_type": "code",
   "execution_count": 33,
   "id": "9efa9d2e-1084-4662-a073-4cd96ef7b3b5",
   "metadata": {},
   "outputs": [
    {
     "name": "stdout",
     "output_type": "stream",
     "text": [
      "File 'data/download.zip' has been successfully extracted to 'data/'.\n"
     ]
    }
   ],
   "source": [
    "import zipfile\n",
    "\n",
    "def unzip_file(zip_file_path, extract_to_folder):\n",
    "    try:\n",
    "        with zipfile.ZipFile(zip_file_path, 'r') as zip_ref:\n",
    "            zip_ref.extractall(extract_to_folder)\n",
    "        print(f\"File '{zip_file_path}' has been successfully extracted to '{extract_to_folder}'.\")\n",
    "    except Exception as e:\n",
    "        print(f\"Error: {e}\")\n",
    "\n",
    "# Example usage:\n",
    "zip_file_path = 'data/download.zip'  # Replace with the actual path to your ZIP file\n",
    "extract_to_folder = 'data/'         # Replace with the folder where you want to extract the contents\n",
    "\n",
    "unzip_file(zip_file_path, extract_to_folder)\n"
   ]
  },
  {
   "cell_type": "code",
   "execution_count": 44,
   "id": "70a160ff-2f78-4c6f-bc85-89917bb026dd",
   "metadata": {},
   "outputs": [
    {
     "name": "stdout",
     "output_type": "stream",
     "text": [
      "dict_keys(['mean_Tmean_Yearly', 'height', 'lat', 'lon', 'time'])\n"
     ]
    }
   ],
   "source": [
    "import netCDF4 as nc\n",
    "file = 'data/mean_Tmean_Yearly_rcp45_mean_v1.0.nc'\n",
    "ds = nc.Dataset(file)\n",
    "\n",
    "print(ds.variables.keys())"
   ]
  }
 ],
 "metadata": {
  "kernelspec": {
   "display_name": "Python 3 (ipykernel)",
   "language": "python",
   "name": "python3"
  },
  "language_info": {
   "codemirror_mode": {
    "name": "ipython",
    "version": 3
   },
   "file_extension": ".py",
   "mimetype": "text/x-python",
   "name": "python",
   "nbconvert_exporter": "python",
   "pygments_lexer": "ipython3",
   "version": "3.11.5"
  }
 },
 "nbformat": 4,
 "nbformat_minor": 5
}
