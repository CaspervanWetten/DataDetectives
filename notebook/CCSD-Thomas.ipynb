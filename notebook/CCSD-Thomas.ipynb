{
 "cells": [
  {
   "cell_type": "code",
   "execution_count": 1,
   "id": "e24f5e1f-0457-4afa-8ef1-239b6a9c3ebd",
   "metadata": {},
   "outputs": [
    {
     "name": "stdout",
     "output_type": "stream",
     "text": [
      "Requirement already satisfied: cdsapi in /opt/conda/lib/python3.11/site-packages (0.6.1)\n",
      "Requirement already satisfied: netCDF4 in /opt/conda/lib/python3.11/site-packages (1.6.4)\n",
      "Requirement already satisfied: pandas in /opt/conda/lib/python3.11/site-packages (2.1.0)\n",
      "Requirement already satisfied: geopandas in /opt/conda/lib/python3.11/site-packages (0.14.0)\n",
      "Requirement already satisfied: requests>=2.5.0 in /opt/conda/lib/python3.11/site-packages (from cdsapi) (2.31.0)\n",
      "Requirement already satisfied: tqdm in /opt/conda/lib/python3.11/site-packages (from cdsapi) (4.66.1)\n",
      "Requirement already satisfied: cftime in /opt/conda/lib/python3.11/site-packages (from netCDF4) (1.6.2)\n",
      "Requirement already satisfied: certifi in /opt/conda/lib/python3.11/site-packages (from netCDF4) (2023.7.22)\n",
      "Requirement already satisfied: numpy in /opt/conda/lib/python3.11/site-packages (from netCDF4) (1.24.4)\n",
      "Requirement already satisfied: python-dateutil>=2.8.2 in /opt/conda/lib/python3.11/site-packages (from pandas) (2.8.2)\n",
      "Requirement already satisfied: pytz>=2020.1 in /opt/conda/lib/python3.11/site-packages (from pandas) (2023.3.post1)\n",
      "Requirement already satisfied: tzdata>=2022.1 in /opt/conda/lib/python3.11/site-packages (from pandas) (2023.3)\n",
      "Requirement already satisfied: fiona>=1.8.21 in /opt/conda/lib/python3.11/site-packages (from geopandas) (1.9.4.post1)\n",
      "Requirement already satisfied: packaging in /opt/conda/lib/python3.11/site-packages (from geopandas) (23.1)\n",
      "Requirement already satisfied: pyproj>=3.3.0 in /opt/conda/lib/python3.11/site-packages (from geopandas) (3.6.1)\n",
      "Requirement already satisfied: shapely>=1.8.0 in /opt/conda/lib/python3.11/site-packages (from geopandas) (2.0.1)\n",
      "Requirement already satisfied: attrs>=19.2.0 in /opt/conda/lib/python3.11/site-packages (from fiona>=1.8.21->geopandas) (23.1.0)\n",
      "Requirement already satisfied: click~=8.0 in /opt/conda/lib/python3.11/site-packages (from fiona>=1.8.21->geopandas) (8.1.7)\n",
      "Requirement already satisfied: click-plugins>=1.0 in /opt/conda/lib/python3.11/site-packages (from fiona>=1.8.21->geopandas) (1.1.1)\n",
      "Requirement already satisfied: cligj>=0.5 in /opt/conda/lib/python3.11/site-packages (from fiona>=1.8.21->geopandas) (0.7.2)\n",
      "Requirement already satisfied: six in /opt/conda/lib/python3.11/site-packages (from fiona>=1.8.21->geopandas) (1.16.0)\n",
      "Requirement already satisfied: charset-normalizer<4,>=2 in /opt/conda/lib/python3.11/site-packages (from requests>=2.5.0->cdsapi) (3.2.0)\n",
      "Requirement already satisfied: idna<4,>=2.5 in /opt/conda/lib/python3.11/site-packages (from requests>=2.5.0->cdsapi) (3.4)\n",
      "Requirement already satisfied: urllib3<3,>=1.21.1 in /opt/conda/lib/python3.11/site-packages (from requests>=2.5.0->cdsapi) (2.0.4)\n",
      "Note: you may need to restart the kernel to use updated packages.\n"
     ]
    }
   ],
   "source": [
    "pip install cdsapi netCDF4 pandas geopandas"
   ]
  },
  {
   "cell_type": "code",
   "execution_count": 2,
   "id": "88d60cc5-729f-40c3-aef9-73cd121f2fc4",
   "metadata": {},
   "outputs": [
    {
     "name": "stderr",
     "output_type": "stream",
     "text": [
      "2023-10-03 11:00:11,933 INFO Welcome to the CDS\n",
      "2023-10-03 11:00:11,936 INFO Sending request to https://cds.climate.copernicus.eu/api/v2/resources/sis-temperature-statistics\n",
      "2023-10-03 11:00:12,097 INFO Request is completed\n",
      "2023-10-03 11:00:12,105 INFO Downloading https://download-0007-clone.copernicus-climate.eu/cache-compute-0007/cache/data3/dataset-sis-temperature-statistics-9bbcd136-11de-44f1-a449-cb4217885d92.zip to data/download.zip (40M)\n",
      "2023-10-03 11:00:39,995 INFO Download rate 1.4M/s   \n"
     ]
    },
    {
     "data": {
      "text/plain": [
       "Result(content_length=41909241,content_type=application/zip,location=https://download-0007-clone.copernicus-climate.eu/cache-compute-0007/cache/data3/dataset-sis-temperature-statistics-9bbcd136-11de-44f1-a449-cb4217885d92.zip)"
      ]
     },
     "execution_count": 2,
     "metadata": {},
     "output_type": "execute_result"
    }
   ],
   "source": [
    "import cdsapi\n",
    "\n",
    "c = cdsapi.Client(url = \"https://cds.climate.copernicus.eu/api/v2\", key = \"255794:bedde892-0558-4ee4-b915-54e0fb7d698c\")\n",
    "\n",
    "c.retrieve(\n",
    "    'sis-temperature-statistics',\n",
    "    {\n",
    "        'format': 'zip',\n",
    "        'variable': 'average_temperature',\n",
    "        'period': 'year',\n",
    "        'statistic': 'time_average',\n",
    "        'experiment': 'rcp4_5',\n",
    "        'ensemble_statistic': 'ensemble_members_average',\n",
    "    },\n",
    "    'data/download.zip')"
   ]
  },
  {
   "cell_type": "code",
   "execution_count": 3,
   "id": "9efa9d2e-1084-4662-a073-4cd96ef7b3b5",
   "metadata": {},
   "outputs": [
    {
     "name": "stdout",
     "output_type": "stream",
     "text": [
      "File 'data/download.zip' has been successfully extracted to 'data/'.\n"
     ]
    }
   ],
   "source": [
    "import zipfile\n",
    "\n",
    "def unzip_file(zip_file_path, extract_to_folder):\n",
    "    try:\n",
    "        with zipfile.ZipFile(zip_file_path, 'r') as zip_ref:\n",
    "            zip_ref.extractall(extract_to_folder)\n",
    "        print(f\"File '{zip_file_path}' has been successfully extracted to '{extract_to_folder}'.\")\n",
    "    except Exception as e:\n",
    "        print(f\"Error: {e}\")\n",
    "\n",
    "# Example usage:\n",
    "zip_file_path = 'data/download.zip'  # Replace with the actual path to your ZIP file\n",
    "extract_to_folder = 'data/'         # Replace with the folder where you want to extract the contents\n",
    "\n",
    "unzip_file(zip_file_path, extract_to_folder)\n"
   ]
  },
  {
   "cell_type": "code",
   "execution_count": 4,
   "id": "70a160ff-2f78-4c6f-bc85-89917bb026dd",
   "metadata": {},
   "outputs": [
    {
     "name": "stdout",
     "output_type": "stream",
     "text": [
      "dict_keys(['mean_Tmean_Yearly', 'height', 'lat', 'lon', 'time'])\n"
     ]
    }
   ],
   "source": [
    "import netCDF4 as nc\n",
    "file = 'data/mean_Tmean_Yearly_rcp45_mean_v1.0.nc'\n",
    "ds = nc.Dataset(file)\n",
    "\n",
    "print(ds.variables.keys())"
   ]
  },
  {
   "cell_type": "code",
   "execution_count": 5,
   "id": "ffe0b44c-dd7e-47e4-a3b8-50c3d042f464",
   "metadata": {},
   "outputs": [],
   "source": [
    "variable_name = 'mean_Tmean_Yearly'  # Replace with the name of the variable you want to access\n",
    "data = ds.variables[variable_name][:]  # Access the data as a NumPy array\n"
   ]
  },
  {
   "cell_type": "code",
   "execution_count": 6,
   "id": "ae1ba395-8bf5-4992-b910-c1215e6dfe61",
   "metadata": {},
   "outputs": [
    {
     "name": "stdout",
     "output_type": "stream",
     "text": [
      "Variable Name: mean_Tmean_Yearly\n",
      "Variable Name: height\n",
      "Variable Name: lat\n",
      "Variable Name: lon\n",
      "Variable Name: time\n"
     ]
    }
   ],
   "source": [
    "file = 'data/mean_Tmean_Yearly_rcp45_mean_v1.0.nc'\n",
    "ds = nc.Dataset(file)\n",
    "\n",
    "# List of variable names\n",
    "variable_names = ds.variables.keys()\n",
    "\n",
    "# Access and print the values of each variable\n",
    "for variable_name in variable_names:\n",
    "    variable_data = ds.variables[variable_name][:]  # Get the variable data\n",
    "    print(f\"Variable Name: {variable_name}\")\n",
    "   # print(f\"Variable Data:\\n{variable_data}\\n\")"
   ]
  },
  {
   "cell_type": "code",
   "execution_count": 7,
   "id": "8b724d3b-eeb4-4764-a01a-47e1022db9e8",
   "metadata": {},
   "outputs": [],
   "source": [
    "import numpy as np\n",
    "import pandas as pd"
   ]
  },
  {
   "cell_type": "code",
   "execution_count": null,
   "id": "127f9d43-3b2c-4bb5-87f0-b895d03e3f17",
   "metadata": {},
   "outputs": [
    {
     "name": "stdout",
     "output_type": "stream",
     "text": [
      "425\n",
      "599\n",
      "100\n"
     ]
    }
   ],
   "source": [
    "# Define the number of samples you want\n",
    "num_samples = 9000000  # Adjust this number as needed\n",
    "\n",
    "# Get the dimensions of latitude, longitude, and time\n",
    "num_latitudes = len(ds.dimensions['lat'])\n",
    "num_longitudes = len(ds.dimensions['lon'])\n",
    "num_times = len(ds.dimensions['time'])\n",
    "\n",
    "print(num_latitudes)\n",
    "print(num_longitudes)\n",
    "print(num_times)\n",
    "# Create random indices for latitude, longitude, and time\n",
    "random_lat_indices = np.random.choice(num_latitudes, num_samples)\n",
    "random_lon_indices = np.random.choice(num_longitudes, num_samples)\n",
    "random_time_indices = np.random.choice(num_times, num_samples)\n",
    "\n",
    "# Create empty lists to store data\n",
    "lat_list, lon_list, time_list, mean_Tmean_list = [], [], [], []\n",
    "\n",
    "# Iterate through the selected random indices and store the corresponding data\n",
    "for lat_idx, lon_idx, time_idx in zip(random_lat_indices, random_lon_indices, random_time_indices):\n",
    "    lat_val = ds.variables['lat'][lat_idx]\n",
    "    lon_val = ds.variables['lon'][lon_idx]\n",
    "    time_val = ds.variables['time'][time_idx]\n",
    "    mean_Tmean_val = ds.variables['mean_Tmean_Yearly'][time_idx, lat_idx, lon_idx]\n",
    "\n",
    "    lat_list.append(lat_val)\n",
    "    lon_list.append(lon_val)\n",
    "    time_list.append(time_val)\n",
    "    mean_Tmean_list.append(mean_Tmean_val)\n",
    "\n",
    "# Create a Pandas DataFrame\n",
    "data = {\n",
    "    'lat': lat_list,\n",
    "    'lon': lon_list,\n",
    "    'time': time_list,\n",
    "    'mean_Tmean_Yearly': mean_Tmean_list\n",
    "}\n",
    "df = pd.DataFrame(data)\n",
    "\n",
    "# Print the DataFrame\n",
    "print(df)\n",
    "\n",
    "# Close the NetCDF file\n",
    "ds.close()"
   ]
  },
  {
   "cell_type": "code",
   "execution_count": null,
   "id": "9b8e21e3-81f3-4997-a3f3-5ed35b0451e4",
   "metadata": {},
   "outputs": [],
   "source": [
    "output_csv_file = 'output.csv'\n",
    "df.to_csv(output_csv_file, index=False)"
   ]
  },
  {
   "cell_type": "code",
   "execution_count": null,
   "id": "3ff14bb5-85ae-48aa-ad44-5f8551de49bb",
   "metadata": {},
   "outputs": [],
   "source": [
    "df.head()"
   ]
  },
  {
   "cell_type": "code",
   "execution_count": null,
   "id": "4a6cc2dd-f3a1-41a4-b552-1fc7f389ff48",
   "metadata": {},
   "outputs": [],
   "source": [
    "datatypes = df.dtypes\n",
    "datatypes"
   ]
  },
  {
   "cell_type": "code",
   "execution_count": null,
   "id": "3aca4e14-4fdd-4b5b-ba68-4d4d2b207b7f",
   "metadata": {},
   "outputs": [],
   "source": [
    "df['lat']=df['lat'].astype(float)\n",
    "df['lon']=df['lon'].astype(float)\n",
    "df['time']=df['time'].astype(float)\n",
    "df['mean_Tmean_Yearly']=df['mean_Tmean_Yearly'].astype(float)\n",
    "datatypes = df.dtypes\n",
    "datatypes"
   ]
  },
  {
   "cell_type": "code",
   "execution_count": null,
   "id": "5b706143-2eeb-48d6-a635-55eb6de17fce",
   "metadata": {},
   "outputs": [],
   "source": [
    "missing_values = df.isna().sum()\n",
    "print(missing_values)"
   ]
  },
  {
   "cell_type": "code",
   "execution_count": null,
   "id": "562dbff7-e8c6-4b1f-aed6-68321429aa9b",
   "metadata": {},
   "outputs": [],
   "source": [
    "df = df.dropna()\n",
    "missing_values = df.isna().sum()\n",
    "print(missing_values)"
   ]
  },
  {
   "cell_type": "code",
   "execution_count": null,
   "id": "2409f8d6-a9a8-46a4-a6b3-fc1e3ccd7208",
   "metadata": {},
   "outputs": [],
   "source": [
    "import plotly.express as px\n",
    "fig = px.histogram(df, x=\"mean_Tmean_Yearly\")\n",
    "fig.show()"
   ]
  },
  {
   "cell_type": "code",
   "execution_count": null,
   "id": "117fa0b4-6870-45e1-8560-8b8ba444b07c",
   "metadata": {},
   "outputs": [],
   "source": [
    "import plotly.express as px\n",
    "fig = px.histogram(df, x=\"lon\")\n",
    "fig.show()"
   ]
  }
 ],
 "metadata": {
  "kernelspec": {
   "display_name": "Python 3 (ipykernel)",
   "language": "python",
   "name": "python3"
  },
  "language_info": {
   "codemirror_mode": {
    "name": "ipython",
    "version": 3
   },
   "file_extension": ".py",
   "mimetype": "text/x-python",
   "name": "python",
   "nbconvert_exporter": "python",
   "pygments_lexer": "ipython3",
   "version": "3.11.5"
  }
 },
 "nbformat": 4,
 "nbformat_minor": 5
}
